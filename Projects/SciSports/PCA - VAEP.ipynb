{
 "cells": [
  {
   "cell_type": "markdown",
   "metadata": {},
   "source": [
    "# Tutorial: Download data, value actions and rate players\n",
    "\n",
    "This tutorial demonstrates how to value on-the-ball actions of football players with the open-source [VAEP framework](https://github.com/ML-KULeuven/socceraction) using the publicly available [Wyscout match event dataset](https://figshare.com/collections/Soccer_match_event_dataset/4415000). The Wyscout dataset includes data for the 2017/2018 English Premier League, the 2017/2018 Spanish Primera División, the 2017/2018 German 1. Bundesliga, the 2017/2018 Italian Serie A, the 2017/2018 French Ligue 1, the 2018 FIFA World Cup, and the UEFA Euro 2016. Covering 1,941 matches, 3,251,294 events and 4,299 players, the dataset is large enough to train machine-learning models and obtain robust ratings for the players.\n",
    "\n",
    "This tutorial demonstrates the following four steps:\n",
    "1. Download the [Wyscout dataset](https://figshare.com/collections/Soccer_match_event_dataset/4415000) and preprocess the relevant data.\n",
    "2. Value game states by training predictive machine learning models.\n",
    "  - Compute descriptive features for each game state.\n",
    "  - Obtain labels for each game state (i.e., *Goal scored within next ten actions? Goal conceded within next ten actions?*)\n",
    "3. Value on-the-ball actions by using the trained predictive machine learning models.\n",
    "4. Rate players by aggregating the values of their on-the-ball actions.\n",
    "\n",
    "**Conventions:**\n",
    "* Variables that refer a `DataFrame` object are prefixed with `df_`.\n",
    "* Variables that refer a collection of `DataFrame` objects (e.g., a list, a set or a dict) are prefixed with `dfs_`.\n",
    "\n",
    "**References:**\n",
    "* Tom Decroos, Lotte Bransen, Jan Van Haaren, and Jesse Davis. \"[Actions Speak Louder than Goals: Valuing Player Actions in Soccer.](https://arxiv.org/abs/1802.07127)\" In *Proceedings of the 25th ACM SIGKDD International Conference on Knowledge Discovery & Data Mining*, pp. 1851-1861. 2019.\n",
    "* Luca Pappalardo, Paolo Cintia, Alessio Rossi, Emanuele Massucco, Paolo Ferragina, Dino Pedreschi, and Fosca Giannotti. \"[A Public Data Set of Spatio-Temporal Match Events in Soccer Competitions.](https://www.nature.com/articles/s41597-019-0247-7)\" *Scientific Data 6*, no. 1 (2019): 1-15."
   ]
  },
  {
   "cell_type": "markdown",
   "metadata": {},
   "source": [
    "**Optional:** If you run this notebook on Google Colab, then uncomment the code in the following cell and execute the cell."
   ]
  },
  {
   "cell_type": "code",
   "execution_count": 2,
   "metadata": {},
   "outputs": [],
   "source": [
    "# !pip install tables==3.6.1\n",
    "# !pip install socceraction"
   ]
  },
  {
   "cell_type": "markdown",
   "metadata": {},
   "source": [
    "**Optional:** If you run this notebook on Google Colab and wish to store all data in a Google Drive folder, then uncomment the code in the following cell and execute the cell."
   ]
  },
  {
   "cell_type": "code",
   "execution_count": 3,
   "metadata": {},
   "outputs": [],
   "source": [
    "# from google.colab import drive\n",
    "# drive.mount('/content/gdrive')\n",
    "# %mkdir -p '/content/gdrive/My Drive/Friends of Tracking/'\n",
    "# %cd '/content/gdrive/My Drive/Friends of Tracking/'"
   ]
  },
  {
   "cell_type": "code",
   "execution_count": 6,
   "metadata": {},
   "outputs": [],
   "source": [
    "from io import BytesIO\n",
    "\n",
    "from pathlib import Path\n",
    "\n",
    "from tqdm.notebook import tqdm\n",
    "\n",
    "from urllib.parse import urlparse\n",
    "from urllib.request import urlopen, urlretrieve\n",
    "\n",
    "from zipfile import ZipFile, is_zipfile"
   ]
  },
  {
   "cell_type": "code",
   "execution_count": 7,
   "metadata": {},
   "outputs": [],
   "source": [
    "import pandas as pd  # version 1.0.3\n",
    "\n",
    "from sklearn.metrics import brier_score_loss, roc_auc_score  # version 0.22.2\n",
    "from xgboost import XGBClassifier  # version 1.0.2\n",
    "\n",
    "import socceraction.classification.features as features\n",
    "import socceraction.classification.labels as labels\n",
    "\n",
    "from socceraction.spadl.wyscout import convert_to_spadl\n",
    "from socceraction.vaep import value"
   ]
  },
  {
   "cell_type": "code",
   "execution_count": 8,
   "metadata": {},
   "outputs": [],
   "source": [
    "import warnings\n",
    "warnings.filterwarnings('ignore', category=pd.io.pytables.PerformanceWarning)\n"
   ]
  },
  {
   "cell_type": "code",
   "execution_count": 9,
   "metadata": {},
   "outputs": [],
   "source": [
    "from sklearn.decomposition import PCA\n",
    "from sklearn.preprocessing import StandardScaler "
   ]
  },
  {
   "cell_type": "markdown",
   "metadata": {},
   "source": [
    "# Download and preprocess the data"
   ]
  },
  {
   "cell_type": "markdown",
   "metadata": {},
   "source": [
    "This section downloads the Wyscout dataset, collects the required information about the match events, and converts the match events into the SPADL representation.\n",
    "\n",
    "1. Download the Wyscout dataset;\n",
    "2. Construct an HDF5 file named `wyscout.h5` that contains the relevant information from the dataset;\n",
    "3. Convert the `wyscout.h5` file into a `spadl.h5` file that contains the same information in the SPADL representation.\n",
    "\n",
    "**Note:** The `socceraction` library offers off-the-shelf functionality to convert a collection of Wyscout JSON files into the SPADL representation. However, the JSON files in the publicly available dataset are not directly compatible with the `socceraction` functionality. Therefore, we need to perform a few additional steps to transform the Wyscout data into the SPADL representation."
   ]
  },
  {
   "cell_type": "markdown",
   "metadata": {},
   "source": [
    "## Download the Wyscout dataset"
   ]
  },
  {
   "cell_type": "markdown",
   "metadata": {},
   "source": [
    "The `data_files` `dict` lists the four data files in the Wyscout dataset that are required to run the VAEP framework.\n",
    "* `events` (73.74 MB): match events for the matches in the dataset;\n",
    "* `matches` (629.98 kB): overview of the matches in the dataset;\n",
    "* `players` (1.66 MB): information on the players in the dataset;\n",
    "* `teams` (26.76 kB): information on the teams in the dataset."
   ]
  },
  {
   "cell_type": "code",
   "execution_count": 10,
   "metadata": {},
   "outputs": [],
   "source": [
    "data_files = {\n",
    "    'events': 'https://ndownloader.figshare.com/files/14464685',  # ZIP file containing one JSON file for each competition\n",
    "    'matches': 'https://ndownloader.figshare.com/files/14464622',  # ZIP file containing one JSON file for each competition\n",
    "    'players': 'https://ndownloader.figshare.com/files/15073721',  # JSON file\n",
    "    'teams': 'https://ndownloader.figshare.com/files/15073697'  # JSON file\n",
    "}"
   ]
  },
  {
   "cell_type": "markdown",
   "metadata": {},
   "source": [
    "The following cell loops through the `data_files` `dict`, downloads each listed data file, and stores each downloaded data file to the local file system.\n",
    "\n",
    "If the downloaded data file is a ZIP archive, the included JSON files are extracted from the ZIP archive and stored to the local file system.\n",
    "\n",
    "**Note:** If you do not understand what the code below does exactly, then do not worry too much. ;-)"
   ]
  },
  {
   "cell_type": "code",
   "execution_count": 11,
   "metadata": {},
   "outputs": [
    {
     "data": {
      "application/vnd.jupyter.widget-view+json": {
       "model_id": "61dcc2a09bed45a5b9144d7a885dd62b",
       "version_major": 2,
       "version_minor": 0
      },
      "text/plain": [
       "HBox(children=(FloatProgress(value=0.0, max=4.0), HTML(value='')))"
      ]
     },
     "metadata": {},
     "output_type": "display_data"
    },
    {
     "name": "stdout",
     "output_type": "stream",
     "text": [
      "\n"
     ]
    }
   ],
   "source": [
    "for url in tqdm(data_files.values()):\n",
    "    url_s3 = urlopen(url).geturl()\n",
    "    path = Path(urlparse(url_s3).path)\n",
    "    file_name = path.name\n",
    "    file_local, _ = urlretrieve(url_s3, file_name)\n",
    "    if is_zipfile(file_local):\n",
    "        with ZipFile(file_local) as zip_file:\n",
    "            zip_file.extractall()"
   ]
  },
  {
   "cell_type": "markdown",
   "metadata": {},
   "source": [
    "## Preprocess the Wyscout data"
   ]
  },
  {
   "cell_type": "markdown",
   "metadata": {},
   "source": [
    "The `read_json_file` function reads and returns the content of a given JSON file. The function handles the encoding of special characters (e.g., accents in names of players and teams) that the `pd.read_json` function cannot handle properly."
   ]
  },
  {
   "cell_type": "code",
   "execution_count": 12,
   "metadata": {},
   "outputs": [],
   "source": [
    "def read_json_file(filename):\n",
    "    with open(filename, 'rb') as json_file:\n",
    "        return BytesIO(json_file.read()).getvalue().decode('unicode_escape')"
   ]
  },
  {
   "cell_type": "markdown",
   "metadata": {},
   "source": [
    "### Teams"
   ]
  },
  {
   "cell_type": "markdown",
   "metadata": {},
   "source": [
    "The following cells read the `teams.json` file into a `DataFrame` object and store that object in the `wyscout.h5` HDF5 file under the key `teams`."
   ]
  },
  {
   "cell_type": "code",
   "execution_count": 13,
   "metadata": {},
   "outputs": [],
   "source": [
    "json_teams = read_json_file('teams.json')\n",
    "df_teams = pd.read_json(json_teams)"
   ]
  },
  {
   "cell_type": "code",
   "execution_count": 14,
   "metadata": {},
   "outputs": [
    {
     "data": {
      "text/html": [
       "<div>\n",
       "<style scoped>\n",
       "    .dataframe tbody tr th:only-of-type {\n",
       "        vertical-align: middle;\n",
       "    }\n",
       "\n",
       "    .dataframe tbody tr th {\n",
       "        vertical-align: top;\n",
       "    }\n",
       "\n",
       "    .dataframe thead th {\n",
       "        text-align: right;\n",
       "    }\n",
       "</style>\n",
       "<table border=\"1\" class=\"dataframe\">\n",
       "  <thead>\n",
       "    <tr style=\"text-align: right;\">\n",
       "      <th></th>\n",
       "      <th>city</th>\n",
       "      <th>name</th>\n",
       "      <th>wyId</th>\n",
       "      <th>officialName</th>\n",
       "      <th>area</th>\n",
       "      <th>type</th>\n",
       "    </tr>\n",
       "  </thead>\n",
       "  <tbody>\n",
       "    <tr>\n",
       "      <th>0</th>\n",
       "      <td>Newcastle upon Tyne</td>\n",
       "      <td>Newcastle United</td>\n",
       "      <td>1613</td>\n",
       "      <td>Newcastle United FC</td>\n",
       "      <td>{'name': 'England', 'id': '0', 'alpha3code': '...</td>\n",
       "      <td>club</td>\n",
       "    </tr>\n",
       "    <tr>\n",
       "      <th>1</th>\n",
       "      <td>Vigo</td>\n",
       "      <td>Celta de Vigo</td>\n",
       "      <td>692</td>\n",
       "      <td>Real Club Celta de Vigo</td>\n",
       "      <td>{'name': 'Spain', 'id': '724', 'alpha3code': '...</td>\n",
       "      <td>club</td>\n",
       "    </tr>\n",
       "    <tr>\n",
       "      <th>2</th>\n",
       "      <td>Barcelona</td>\n",
       "      <td>Espanyol</td>\n",
       "      <td>691</td>\n",
       "      <td>Reial Club Deportiu Espanyol</td>\n",
       "      <td>{'name': 'Spain', 'id': '724', 'alpha3code': '...</td>\n",
       "      <td>club</td>\n",
       "    </tr>\n",
       "    <tr>\n",
       "      <th>3</th>\n",
       "      <td>Vitoria-Gasteiz</td>\n",
       "      <td>Deportivo Alavés</td>\n",
       "      <td>696</td>\n",
       "      <td>Deportivo Alavés</td>\n",
       "      <td>{'name': 'Spain', 'id': '724', 'alpha3code': '...</td>\n",
       "      <td>club</td>\n",
       "    </tr>\n",
       "    <tr>\n",
       "      <th>4</th>\n",
       "      <td>Valencia</td>\n",
       "      <td>Levante</td>\n",
       "      <td>695</td>\n",
       "      <td>Levante UD</td>\n",
       "      <td>{'name': 'Spain', 'id': '724', 'alpha3code': '...</td>\n",
       "      <td>club</td>\n",
       "    </tr>\n",
       "    <tr>\n",
       "      <th>5</th>\n",
       "      <td>Troyes</td>\n",
       "      <td>Troyes</td>\n",
       "      <td>3795</td>\n",
       "      <td>Espérance Sportive Troyes Aube Champagne</td>\n",
       "      <td>{'name': 'France', 'id': '250', 'alpha3code': ...</td>\n",
       "      <td>club</td>\n",
       "    </tr>\n",
       "    <tr>\n",
       "      <th>6</th>\n",
       "      <td>Getafe (Madrid)</td>\n",
       "      <td>Getafe</td>\n",
       "      <td>698</td>\n",
       "      <td>Getafe Club de Fútbol</td>\n",
       "      <td>{'name': 'Spain', 'id': '724', 'alpha3code': '...</td>\n",
       "      <td>club</td>\n",
       "    </tr>\n",
       "    <tr>\n",
       "      <th>7</th>\n",
       "      <td>Mönchengladbach</td>\n",
       "      <td>Borussia M'gladbach</td>\n",
       "      <td>2454</td>\n",
       "      <td>Borussia VfL Mönchengladbach</td>\n",
       "      <td>{'name': 'Germany', 'id': '276', 'alpha3code':...</td>\n",
       "      <td>club</td>\n",
       "    </tr>\n",
       "    <tr>\n",
       "      <th>8</th>\n",
       "      <td>Huddersfield, West Yorkshire</td>\n",
       "      <td>Huddersfield Town</td>\n",
       "      <td>1673</td>\n",
       "      <td>Huddersfield Town FC</td>\n",
       "      <td>{'name': 'England', 'id': '0', 'alpha3code': '...</td>\n",
       "      <td>club</td>\n",
       "    </tr>\n",
       "    <tr>\n",
       "      <th>9</th>\n",
       "      <td>Bilbao</td>\n",
       "      <td>Athletic Club</td>\n",
       "      <td>678</td>\n",
       "      <td>Athletic Club Bilbao</td>\n",
       "      <td>{'name': 'Spain', 'id': '724', 'alpha3code': '...</td>\n",
       "      <td>club</td>\n",
       "    </tr>\n",
       "  </tbody>\n",
       "</table>\n",
       "</div>"
      ],
      "text/plain": [
       "                           city                 name  wyId  \\\n",
       "0           Newcastle upon Tyne     Newcastle United  1613   \n",
       "1                          Vigo        Celta de Vigo   692   \n",
       "2                     Barcelona             Espanyol   691   \n",
       "3               Vitoria-Gasteiz     Deportivo Alavés   696   \n",
       "4                      Valencia              Levante   695   \n",
       "5                        Troyes               Troyes  3795   \n",
       "6               Getafe (Madrid)               Getafe   698   \n",
       "7               Mönchengladbach  Borussia M'gladbach  2454   \n",
       "8  Huddersfield, West Yorkshire    Huddersfield Town  1673   \n",
       "9                        Bilbao        Athletic Club   678   \n",
       "\n",
       "                               officialName  \\\n",
       "0                       Newcastle United FC   \n",
       "1                   Real Club Celta de Vigo   \n",
       "2              Reial Club Deportiu Espanyol   \n",
       "3                          Deportivo Alavés   \n",
       "4                                Levante UD   \n",
       "5  Espérance Sportive Troyes Aube Champagne   \n",
       "6                     Getafe Club de Fútbol   \n",
       "7              Borussia VfL Mönchengladbach   \n",
       "8                      Huddersfield Town FC   \n",
       "9                      Athletic Club Bilbao   \n",
       "\n",
       "                                                area  type  \n",
       "0  {'name': 'England', 'id': '0', 'alpha3code': '...  club  \n",
       "1  {'name': 'Spain', 'id': '724', 'alpha3code': '...  club  \n",
       "2  {'name': 'Spain', 'id': '724', 'alpha3code': '...  club  \n",
       "3  {'name': 'Spain', 'id': '724', 'alpha3code': '...  club  \n",
       "4  {'name': 'Spain', 'id': '724', 'alpha3code': '...  club  \n",
       "5  {'name': 'France', 'id': '250', 'alpha3code': ...  club  \n",
       "6  {'name': 'Spain', 'id': '724', 'alpha3code': '...  club  \n",
       "7  {'name': 'Germany', 'id': '276', 'alpha3code':...  club  \n",
       "8  {'name': 'England', 'id': '0', 'alpha3code': '...  club  \n",
       "9  {'name': 'Spain', 'id': '724', 'alpha3code': '...  club  "
      ]
     },
     "execution_count": 14,
     "metadata": {},
     "output_type": "execute_result"
    }
   ],
   "source": [
    "df_teams.head(10)"
   ]
  },
  {
   "cell_type": "code",
   "execution_count": 15,
   "metadata": {},
   "outputs": [],
   "source": [
    "df_teams.to_hdf('wyscout.h5', key='teams', mode='w')"
   ]
  },
  {
   "cell_type": "markdown",
   "metadata": {},
   "source": [
    "### Players"
   ]
  },
  {
   "cell_type": "markdown",
   "metadata": {},
   "source": [
    "The following cells read the `players.json` file into a `DataFrame` object and store that object in the `wyscout.h5` HDF5 file under the key `players`."
   ]
  },
  {
   "cell_type": "code",
   "execution_count": 16,
   "metadata": {},
   "outputs": [],
   "source": [
    "json_players = read_json_file('players.json')\n",
    "df_players = pd.read_json(json_players)"
   ]
  },
  {
   "cell_type": "code",
   "execution_count": 69,
   "metadata": {},
   "outputs": [
    {
     "data": {
      "text/html": [
       "<div>\n",
       "<style scoped>\n",
       "    .dataframe tbody tr th:only-of-type {\n",
       "        vertical-align: middle;\n",
       "    }\n",
       "\n",
       "    .dataframe tbody tr th {\n",
       "        vertical-align: top;\n",
       "    }\n",
       "\n",
       "    .dataframe thead th {\n",
       "        text-align: right;\n",
       "    }\n",
       "</style>\n",
       "<table border=\"1\" class=\"dataframe\">\n",
       "  <thead>\n",
       "    <tr style=\"text-align: right;\">\n",
       "      <th></th>\n",
       "      <th>passportArea</th>\n",
       "      <th>weight</th>\n",
       "      <th>firstName</th>\n",
       "      <th>middleName</th>\n",
       "      <th>lastName</th>\n",
       "      <th>currentTeamId</th>\n",
       "      <th>birthDate</th>\n",
       "      <th>height</th>\n",
       "      <th>role</th>\n",
       "      <th>birthArea</th>\n",
       "      <th>wyId</th>\n",
       "      <th>foot</th>\n",
       "      <th>shortName</th>\n",
       "      <th>currentNationalTeamId</th>\n",
       "    </tr>\n",
       "  </thead>\n",
       "  <tbody>\n",
       "    <tr>\n",
       "      <th>0</th>\n",
       "      <td>{'name': 'Turkey', 'id': '792', 'alpha3code': ...</td>\n",
       "      <td>78</td>\n",
       "      <td>Harun</td>\n",
       "      <td></td>\n",
       "      <td>Tekin</td>\n",
       "      <td>4502</td>\n",
       "      <td>1989-06-17</td>\n",
       "      <td>187</td>\n",
       "      <td>{'code2': 'GK', 'code3': 'GKP', 'name': 'Goalk...</td>\n",
       "      <td>{'name': 'Turkey', 'id': '792', 'alpha3code': ...</td>\n",
       "      <td>32777</td>\n",
       "      <td>right</td>\n",
       "      <td>H. Tekin</td>\n",
       "      <td>4687</td>\n",
       "    </tr>\n",
       "    <tr>\n",
       "      <th>1</th>\n",
       "      <td>{'name': 'Senegal', 'id': '686', 'alpha3code':...</td>\n",
       "      <td>73</td>\n",
       "      <td>Malang</td>\n",
       "      <td></td>\n",
       "      <td>Sarr</td>\n",
       "      <td>3775</td>\n",
       "      <td>1999-01-23</td>\n",
       "      <td>182</td>\n",
       "      <td>{'code2': 'DF', 'code3': 'DEF', 'name': 'Defen...</td>\n",
       "      <td>{'name': 'France', 'id': '250', 'alpha3code': ...</td>\n",
       "      <td>393228</td>\n",
       "      <td>left</td>\n",
       "      <td>M. Sarr</td>\n",
       "      <td>4423</td>\n",
       "    </tr>\n",
       "    <tr>\n",
       "      <th>2</th>\n",
       "      <td>{'name': 'France', 'id': '250', 'alpha3code': ...</td>\n",
       "      <td>72</td>\n",
       "      <td>Over</td>\n",
       "      <td></td>\n",
       "      <td>Mandanda</td>\n",
       "      <td>3772</td>\n",
       "      <td>1998-10-26</td>\n",
       "      <td>176</td>\n",
       "      <td>{'code2': 'GK', 'code3': 'GKP', 'name': 'Goalk...</td>\n",
       "      <td>{'name': 'France', 'id': '250', 'alpha3code': ...</td>\n",
       "      <td>393230</td>\n",
       "      <td></td>\n",
       "      <td>O. Mandanda</td>\n",
       "      <td>null</td>\n",
       "    </tr>\n",
       "    <tr>\n",
       "      <th>3</th>\n",
       "      <td>{'name': 'Senegal', 'id': '686', 'alpha3code':...</td>\n",
       "      <td>82</td>\n",
       "      <td>Alfred John Momar</td>\n",
       "      <td></td>\n",
       "      <td>N'Diaye</td>\n",
       "      <td>683</td>\n",
       "      <td>1990-03-06</td>\n",
       "      <td>187</td>\n",
       "      <td>{'code2': 'MD', 'code3': 'MID', 'name': 'Midfi...</td>\n",
       "      <td>{'name': 'France', 'id': '250', 'alpha3code': ...</td>\n",
       "      <td>32793</td>\n",
       "      <td>right</td>\n",
       "      <td>A. N'Diaye</td>\n",
       "      <td>19314</td>\n",
       "    </tr>\n",
       "    <tr>\n",
       "      <th>4</th>\n",
       "      <td>{'name': 'France', 'id': '250', 'alpha3code': ...</td>\n",
       "      <td>84</td>\n",
       "      <td>Ibrahima</td>\n",
       "      <td></td>\n",
       "      <td>Konaté</td>\n",
       "      <td>2975</td>\n",
       "      <td>1999-05-25</td>\n",
       "      <td>192</td>\n",
       "      <td>{'code2': 'DF', 'code3': 'DEF', 'name': 'Defen...</td>\n",
       "      <td>{'name': 'France', 'id': '250', 'alpha3code': ...</td>\n",
       "      <td>393247</td>\n",
       "      <td>right</td>\n",
       "      <td>I. Konaté</td>\n",
       "      <td>null</td>\n",
       "    </tr>\n",
       "    <tr>\n",
       "      <th>5</th>\n",
       "      <td>{'name': 'Netherlands', 'id': '528', 'alpha3co...</td>\n",
       "      <td>83</td>\n",
       "      <td>Jasper</td>\n",
       "      <td></td>\n",
       "      <td>Cillessen</td>\n",
       "      <td>676</td>\n",
       "      <td>1989-04-22</td>\n",
       "      <td>185</td>\n",
       "      <td>{'code2': 'GK', 'code3': 'GKP', 'name': 'Goalk...</td>\n",
       "      <td>{'name': 'Netherlands', 'id': '528', 'alpha3co...</td>\n",
       "      <td>33</td>\n",
       "      <td>right</td>\n",
       "      <td>J. Cillessen</td>\n",
       "      <td>664</td>\n",
       "    </tr>\n",
       "    <tr>\n",
       "      <th>6</th>\n",
       "      <td>{'name': 'Belgium', 'id': '56', 'alpha3code': ...</td>\n",
       "      <td>91</td>\n",
       "      <td>Toby</td>\n",
       "      <td></td>\n",
       "      <td>Alderweireld</td>\n",
       "      <td>1624</td>\n",
       "      <td>1989-03-02</td>\n",
       "      <td>187</td>\n",
       "      <td>{'code2': 'DF', 'code3': 'DEF', 'name': 'Defen...</td>\n",
       "      <td>{'name': 'Belgium', 'id': '56', 'alpha3code': ...</td>\n",
       "      <td>36</td>\n",
       "      <td>right</td>\n",
       "      <td>T. Alderweireld</td>\n",
       "      <td>5629</td>\n",
       "    </tr>\n",
       "    <tr>\n",
       "      <th>7</th>\n",
       "      <td>{'name': 'Belgium', 'id': '56', 'alpha3code': ...</td>\n",
       "      <td>88</td>\n",
       "      <td>Jan</td>\n",
       "      <td></td>\n",
       "      <td>Vertonghen</td>\n",
       "      <td>1624</td>\n",
       "      <td>1987-04-24</td>\n",
       "      <td>189</td>\n",
       "      <td>{'code2': 'DF', 'code3': 'DEF', 'name': 'Defen...</td>\n",
       "      <td>{'name': 'Belgium', 'id': '56', 'alpha3code': ...</td>\n",
       "      <td>48</td>\n",
       "      <td>left</td>\n",
       "      <td>J. Vertonghen</td>\n",
       "      <td>5629</td>\n",
       "    </tr>\n",
       "    <tr>\n",
       "      <th>8</th>\n",
       "      <td>{'name': 'France', 'id': '250', 'alpha3code': ...</td>\n",
       "      <td>74</td>\n",
       "      <td>Alexander</td>\n",
       "      <td></td>\n",
       "      <td>Djiku</td>\n",
       "      <td>3783</td>\n",
       "      <td>1994-08-09</td>\n",
       "      <td>182</td>\n",
       "      <td>{'code2': 'DF', 'code3': 'DEF', 'name': 'Defen...</td>\n",
       "      <td>{'name': 'France', 'id': '250', 'alpha3code': ...</td>\n",
       "      <td>229427</td>\n",
       "      <td>right</td>\n",
       "      <td>A. Djiku</td>\n",
       "      <td>null</td>\n",
       "    </tr>\n",
       "    <tr>\n",
       "      <th>9</th>\n",
       "      <td>{'name': 'Denmark', 'id': '208', 'alpha3code':...</td>\n",
       "      <td>76</td>\n",
       "      <td>Christian</td>\n",
       "      <td></td>\n",
       "      <td>Dannemann Eriksen</td>\n",
       "      <td>1624</td>\n",
       "      <td>1992-02-14</td>\n",
       "      <td>180</td>\n",
       "      <td>{'code2': 'MD', 'code3': 'MID', 'name': 'Midfi...</td>\n",
       "      <td>{'name': 'Denmark', 'id': '208', 'alpha3code':...</td>\n",
       "      <td>54</td>\n",
       "      <td>right</td>\n",
       "      <td>C. Eriksen</td>\n",
       "      <td>7712</td>\n",
       "    </tr>\n",
       "  </tbody>\n",
       "</table>\n",
       "</div>"
      ],
      "text/plain": [
       "                                        passportArea  weight  \\\n",
       "0  {'name': 'Turkey', 'id': '792', 'alpha3code': ...      78   \n",
       "1  {'name': 'Senegal', 'id': '686', 'alpha3code':...      73   \n",
       "2  {'name': 'France', 'id': '250', 'alpha3code': ...      72   \n",
       "3  {'name': 'Senegal', 'id': '686', 'alpha3code':...      82   \n",
       "4  {'name': 'France', 'id': '250', 'alpha3code': ...      84   \n",
       "5  {'name': 'Netherlands', 'id': '528', 'alpha3co...      83   \n",
       "6  {'name': 'Belgium', 'id': '56', 'alpha3code': ...      91   \n",
       "7  {'name': 'Belgium', 'id': '56', 'alpha3code': ...      88   \n",
       "8  {'name': 'France', 'id': '250', 'alpha3code': ...      74   \n",
       "9  {'name': 'Denmark', 'id': '208', 'alpha3code':...      76   \n",
       "\n",
       "           firstName middleName           lastName currentTeamId   birthDate  \\\n",
       "0              Harun                         Tekin          4502  1989-06-17   \n",
       "1             Malang                          Sarr          3775  1999-01-23   \n",
       "2               Over                      Mandanda          3772  1998-10-26   \n",
       "3  Alfred John Momar                       N'Diaye           683  1990-03-06   \n",
       "4           Ibrahima                        Konaté          2975  1999-05-25   \n",
       "5             Jasper                     Cillessen           676  1989-04-22   \n",
       "6               Toby                  Alderweireld          1624  1989-03-02   \n",
       "7                Jan                    Vertonghen          1624  1987-04-24   \n",
       "8          Alexander                         Djiku          3783  1994-08-09   \n",
       "9         Christian              Dannemann Eriksen          1624  1992-02-14   \n",
       "\n",
       "   height                                               role  \\\n",
       "0     187  {'code2': 'GK', 'code3': 'GKP', 'name': 'Goalk...   \n",
       "1     182  {'code2': 'DF', 'code3': 'DEF', 'name': 'Defen...   \n",
       "2     176  {'code2': 'GK', 'code3': 'GKP', 'name': 'Goalk...   \n",
       "3     187  {'code2': 'MD', 'code3': 'MID', 'name': 'Midfi...   \n",
       "4     192  {'code2': 'DF', 'code3': 'DEF', 'name': 'Defen...   \n",
       "5     185  {'code2': 'GK', 'code3': 'GKP', 'name': 'Goalk...   \n",
       "6     187  {'code2': 'DF', 'code3': 'DEF', 'name': 'Defen...   \n",
       "7     189  {'code2': 'DF', 'code3': 'DEF', 'name': 'Defen...   \n",
       "8     182  {'code2': 'DF', 'code3': 'DEF', 'name': 'Defen...   \n",
       "9     180  {'code2': 'MD', 'code3': 'MID', 'name': 'Midfi...   \n",
       "\n",
       "                                           birthArea    wyId   foot  \\\n",
       "0  {'name': 'Turkey', 'id': '792', 'alpha3code': ...   32777  right   \n",
       "1  {'name': 'France', 'id': '250', 'alpha3code': ...  393228   left   \n",
       "2  {'name': 'France', 'id': '250', 'alpha3code': ...  393230          \n",
       "3  {'name': 'France', 'id': '250', 'alpha3code': ...   32793  right   \n",
       "4  {'name': 'France', 'id': '250', 'alpha3code': ...  393247  right   \n",
       "5  {'name': 'Netherlands', 'id': '528', 'alpha3co...      33  right   \n",
       "6  {'name': 'Belgium', 'id': '56', 'alpha3code': ...      36  right   \n",
       "7  {'name': 'Belgium', 'id': '56', 'alpha3code': ...      48   left   \n",
       "8  {'name': 'France', 'id': '250', 'alpha3code': ...  229427  right   \n",
       "9  {'name': 'Denmark', 'id': '208', 'alpha3code':...      54  right   \n",
       "\n",
       "         shortName currentNationalTeamId  \n",
       "0         H. Tekin                  4687  \n",
       "1          M. Sarr                  4423  \n",
       "2      O. Mandanda                  null  \n",
       "3       A. N'Diaye                 19314  \n",
       "4        I. Konaté                  null  \n",
       "5     J. Cillessen                   664  \n",
       "6  T. Alderweireld                  5629  \n",
       "7    J. Vertonghen                  5629  \n",
       "8         A. Djiku                  null  \n",
       "9       C. Eriksen                  7712  "
      ]
     },
     "execution_count": 69,
     "metadata": {},
     "output_type": "execute_result"
    }
   ],
   "source": [
    "df_players.head(10)"
   ]
  },
  {
   "cell_type": "code",
   "execution_count": 17,
   "metadata": {},
   "outputs": [],
   "source": [
    "df_players.to_hdf('wyscout.h5', key='players', mode='a')"
   ]
  },
  {
   "cell_type": "markdown",
   "metadata": {},
   "source": [
    "### Matches"
   ]
  },
  {
   "cell_type": "markdown",
   "metadata": {},
   "source": [
    "The following cell lists the competitions to be included in the dataset. Uncomment the competitions that you want to include in your dataset."
   ]
  },
  {
   "cell_type": "code",
   "execution_count": 26,
   "metadata": {},
   "outputs": [],
   "source": [
    "competitions = [\n",
    "     #'England',\n",
    "     #'France',\n",
    "     #'Germany',\n",
    "     #'Italy',\n",
    "     #'Spain',\n",
    "     'European Championship',\n",
    "     #'World Cup'\n",
    "]"
   ]
  },
  {
   "cell_type": "markdown",
   "metadata": {},
   "source": [
    "The following cells read the `matches.json` files for the selected competitions into a `DataFrame` object and store that object in the `wyscout.h5` HDF5 file under the key `matches`."
   ]
  },
  {
   "cell_type": "code",
   "execution_count": 27,
   "metadata": {},
   "outputs": [],
   "source": [
    "dfs_matches = []\n",
    "for competition in competitions:\n",
    "    competition_name = competition.replace(' ', '_')\n",
    "    file_matches = f'matches_{competition_name}.json'\n",
    "    json_matches = read_json_file(file_matches)\n",
    "    df_matches = pd.read_json(json_matches)\n",
    "    dfs_matches.append(df_matches)\n",
    "df_matches = pd.concat(dfs_matches)"
   ]
  },
  {
   "cell_type": "code",
   "execution_count": 28,
   "metadata": {},
   "outputs": [
    {
     "data": {
      "text/html": [
       "<div>\n",
       "<style scoped>\n",
       "    .dataframe tbody tr th:only-of-type {\n",
       "        vertical-align: middle;\n",
       "    }\n",
       "\n",
       "    .dataframe tbody tr th {\n",
       "        vertical-align: top;\n",
       "    }\n",
       "\n",
       "    .dataframe thead th {\n",
       "        text-align: right;\n",
       "    }\n",
       "</style>\n",
       "<table border=\"1\" class=\"dataframe\">\n",
       "  <thead>\n",
       "    <tr style=\"text-align: right;\">\n",
       "      <th></th>\n",
       "      <th>status</th>\n",
       "      <th>roundId</th>\n",
       "      <th>gameweek</th>\n",
       "      <th>teamsData</th>\n",
       "      <th>seasonId</th>\n",
       "      <th>dateutc</th>\n",
       "      <th>winner</th>\n",
       "      <th>venue</th>\n",
       "      <th>wyId</th>\n",
       "      <th>label</th>\n",
       "      <th>date</th>\n",
       "      <th>groupName</th>\n",
       "      <th>referees</th>\n",
       "      <th>duration</th>\n",
       "      <th>competitionId</th>\n",
       "    </tr>\n",
       "  </thead>\n",
       "  <tbody>\n",
       "    <tr>\n",
       "      <th>0</th>\n",
       "      <td>Played</td>\n",
       "      <td>4165474</td>\n",
       "      <td>0</td>\n",
       "      <td>{'9905': {'scoreET': 1, 'coachId': 137521, 'si...</td>\n",
       "      <td>9291</td>\n",
       "      <td>2016-07-10 19:00:00</td>\n",
       "      <td>9905</td>\n",
       "      <td>Stade de France</td>\n",
       "      <td>1694440</td>\n",
       "      <td>Portugal - France, 1 - 0 (E)</td>\n",
       "      <td>2016-07-10 21:00:00-02:00</td>\n",
       "      <td>Group F</td>\n",
       "      <td>[{'refereeId': 381617, 'role': 'referee'}, {'r...</td>\n",
       "      <td>ExtraTime</td>\n",
       "      <td>102</td>\n",
       "    </tr>\n",
       "    <tr>\n",
       "      <th>1</th>\n",
       "      <td>Played</td>\n",
       "      <td>4165473</td>\n",
       "      <td>0</td>\n",
       "      <td>{'3148': {'scoreET': 0, 'coachId': 134365, 'si...</td>\n",
       "      <td>9291</td>\n",
       "      <td>2016-07-07 19:00:00</td>\n",
       "      <td>4418</td>\n",
       "      <td>Stade Vélodrome</td>\n",
       "      <td>1694439</td>\n",
       "      <td>Germany - France, 0 - 2</td>\n",
       "      <td>2016-07-07 21:00:00-02:00</td>\n",
       "      <td>Group F</td>\n",
       "      <td>[{'refereeId': 377209, 'role': 'referee'}, {'r...</td>\n",
       "      <td>Regular</td>\n",
       "      <td>102</td>\n",
       "    </tr>\n",
       "    <tr>\n",
       "      <th>2</th>\n",
       "      <td>Played</td>\n",
       "      <td>4165473</td>\n",
       "      <td>0</td>\n",
       "      <td>{'10682': {'scoreET': 0, 'coachId': 136439, 's...</td>\n",
       "      <td>9291</td>\n",
       "      <td>2016-07-06 19:00:00</td>\n",
       "      <td>9905</td>\n",
       "      <td>Groupama Stadium</td>\n",
       "      <td>1694438</td>\n",
       "      <td>Portugal - Wales, 2 - 0</td>\n",
       "      <td>2016-07-06 21:00:00-02:00</td>\n",
       "      <td>Group F</td>\n",
       "      <td>[{'refereeId': 384373, 'role': 'referee'}, {'r...</td>\n",
       "      <td>Regular</td>\n",
       "      <td>102</td>\n",
       "    </tr>\n",
       "    <tr>\n",
       "      <th>3</th>\n",
       "      <td>Played</td>\n",
       "      <td>4165472</td>\n",
       "      <td>0</td>\n",
       "      <td>{'7839': {'scoreET': 0, 'coachId': 210205, 'si...</td>\n",
       "      <td>9291</td>\n",
       "      <td>2016-07-03 19:00:00</td>\n",
       "      <td>4418</td>\n",
       "      <td>Stade de France</td>\n",
       "      <td>1694437</td>\n",
       "      <td>France - Iceland, 5 - 2</td>\n",
       "      <td>2016-07-03 21:00:00-02:00</td>\n",
       "      <td>Group F</td>\n",
       "      <td>[{'refereeId': 377215, 'role': 'referee'}, {'r...</td>\n",
       "      <td>Regular</td>\n",
       "      <td>102</td>\n",
       "    </tr>\n",
       "    <tr>\n",
       "      <th>4</th>\n",
       "      <td>Played</td>\n",
       "      <td>4165472</td>\n",
       "      <td>0</td>\n",
       "      <td>{'3148': {'scoreET': 1, 'coachId': 134365, 'si...</td>\n",
       "      <td>9291</td>\n",
       "      <td>2016-07-02 19:00:00</td>\n",
       "      <td>3148</td>\n",
       "      <td>Stade Matmut-Atlantique</td>\n",
       "      <td>1694436</td>\n",
       "      <td>Germany - Italy, 1 - 1 (P)</td>\n",
       "      <td>2016-07-02 21:00:00-02:00</td>\n",
       "      <td>Group F</td>\n",
       "      <td>[{'refereeId': 383185, 'role': 'referee'}, {'r...</td>\n",
       "      <td>Penalties</td>\n",
       "      <td>102</td>\n",
       "    </tr>\n",
       "    <tr>\n",
       "      <th>5</th>\n",
       "      <td>Played</td>\n",
       "      <td>4165472</td>\n",
       "      <td>0</td>\n",
       "      <td>{'10682': {'scoreET': 0, 'coachId': 136439, 's...</td>\n",
       "      <td>9291</td>\n",
       "      <td>2016-07-01 19:00:00</td>\n",
       "      <td>10682</td>\n",
       "      <td>Stade Pierre-Mauroy</td>\n",
       "      <td>1694435</td>\n",
       "      <td>Wales - Belgium, 3 - 1</td>\n",
       "      <td>2016-07-01 21:00:00-02:00</td>\n",
       "      <td>Group F</td>\n",
       "      <td>[{'refereeId': 384921, 'role': 'referee'}, {'r...</td>\n",
       "      <td>Regular</td>\n",
       "      <td>102</td>\n",
       "    </tr>\n",
       "    <tr>\n",
       "      <th>6</th>\n",
       "      <td>Played</td>\n",
       "      <td>4165472</td>\n",
       "      <td>0</td>\n",
       "      <td>{'9905': {'scoreET': 1, 'coachId': 137521, 'si...</td>\n",
       "      <td>9291</td>\n",
       "      <td>2016-06-30 19:00:00</td>\n",
       "      <td>9905</td>\n",
       "      <td>Stade Vélodrome</td>\n",
       "      <td>1694434</td>\n",
       "      <td>Poland - Portugal, 1 - 1 (P)</td>\n",
       "      <td>2016-06-30 21:00:00-02:00</td>\n",
       "      <td>Group F</td>\n",
       "      <td>[{'refereeId': 384898, 'role': 'referee'}, {'r...</td>\n",
       "      <td>Penalties</td>\n",
       "      <td>102</td>\n",
       "    </tr>\n",
       "    <tr>\n",
       "      <th>7</th>\n",
       "      <td>Played</td>\n",
       "      <td>4165471</td>\n",
       "      <td>0</td>\n",
       "      <td>{'7839': {'scoreET': 0, 'coachId': 210205, 'si...</td>\n",
       "      <td>9291</td>\n",
       "      <td>2016-06-27 19:00:00</td>\n",
       "      <td>7839</td>\n",
       "      <td>Allianz Riviera</td>\n",
       "      <td>1694433</td>\n",
       "      <td>England - Iceland, 1 - 2</td>\n",
       "      <td>2016-06-27 21:00:00-02:00</td>\n",
       "      <td>Group F</td>\n",
       "      <td>[{'refereeId': 384921, 'role': 'referee'}, {'r...</td>\n",
       "      <td>Regular</td>\n",
       "      <td>102</td>\n",
       "    </tr>\n",
       "    <tr>\n",
       "      <th>8</th>\n",
       "      <td>Played</td>\n",
       "      <td>4165471</td>\n",
       "      <td>0</td>\n",
       "      <td>{'1598': {'scoreET': 0, 'coachId': 134151, 'si...</td>\n",
       "      <td>9291</td>\n",
       "      <td>2016-06-27 16:00:00</td>\n",
       "      <td>3757</td>\n",
       "      <td>Stade de France</td>\n",
       "      <td>1694432</td>\n",
       "      <td>Italy - Spain, 2 - 0</td>\n",
       "      <td>2016-06-27 18:00:00-02:00</td>\n",
       "      <td>Group F</td>\n",
       "      <td>[{'refereeId': 384995, 'role': 'referee'}, {'r...</td>\n",
       "      <td>Regular</td>\n",
       "      <td>102</td>\n",
       "    </tr>\n",
       "    <tr>\n",
       "      <th>9</th>\n",
       "      <td>Played</td>\n",
       "      <td>4165471</td>\n",
       "      <td>0</td>\n",
       "      <td>{'10451': {'scoreET': 0, 'coachId': 210902, 's...</td>\n",
       "      <td>9291</td>\n",
       "      <td>2016-06-26 19:00:00</td>\n",
       "      <td>5629</td>\n",
       "      <td>Stadium Municipal</td>\n",
       "      <td>1694431</td>\n",
       "      <td>Hungary - Belgium, 0 - 4</td>\n",
       "      <td>2016-06-26 21:00:00-02:00</td>\n",
       "      <td>Group F</td>\n",
       "      <td>[{'refereeId': 384932, 'role': 'referee'}, {'r...</td>\n",
       "      <td>Regular</td>\n",
       "      <td>102</td>\n",
       "    </tr>\n",
       "  </tbody>\n",
       "</table>\n",
       "</div>"
      ],
      "text/plain": [
       "   status  roundId  gameweek  \\\n",
       "0  Played  4165474         0   \n",
       "1  Played  4165473         0   \n",
       "2  Played  4165473         0   \n",
       "3  Played  4165472         0   \n",
       "4  Played  4165472         0   \n",
       "5  Played  4165472         0   \n",
       "6  Played  4165472         0   \n",
       "7  Played  4165471         0   \n",
       "8  Played  4165471         0   \n",
       "9  Played  4165471         0   \n",
       "\n",
       "                                           teamsData  seasonId  \\\n",
       "0  {'9905': {'scoreET': 1, 'coachId': 137521, 'si...      9291   \n",
       "1  {'3148': {'scoreET': 0, 'coachId': 134365, 'si...      9291   \n",
       "2  {'10682': {'scoreET': 0, 'coachId': 136439, 's...      9291   \n",
       "3  {'7839': {'scoreET': 0, 'coachId': 210205, 'si...      9291   \n",
       "4  {'3148': {'scoreET': 1, 'coachId': 134365, 'si...      9291   \n",
       "5  {'10682': {'scoreET': 0, 'coachId': 136439, 's...      9291   \n",
       "6  {'9905': {'scoreET': 1, 'coachId': 137521, 'si...      9291   \n",
       "7  {'7839': {'scoreET': 0, 'coachId': 210205, 'si...      9291   \n",
       "8  {'1598': {'scoreET': 0, 'coachId': 134151, 'si...      9291   \n",
       "9  {'10451': {'scoreET': 0, 'coachId': 210902, 's...      9291   \n",
       "\n",
       "               dateutc  winner                    venue     wyId  \\\n",
       "0  2016-07-10 19:00:00    9905          Stade de France  1694440   \n",
       "1  2016-07-07 19:00:00    4418          Stade Vélodrome  1694439   \n",
       "2  2016-07-06 19:00:00    9905         Groupama Stadium  1694438   \n",
       "3  2016-07-03 19:00:00    4418          Stade de France  1694437   \n",
       "4  2016-07-02 19:00:00    3148  Stade Matmut-Atlantique  1694436   \n",
       "5  2016-07-01 19:00:00   10682      Stade Pierre-Mauroy  1694435   \n",
       "6  2016-06-30 19:00:00    9905          Stade Vélodrome  1694434   \n",
       "7  2016-06-27 19:00:00    7839          Allianz Riviera  1694433   \n",
       "8  2016-06-27 16:00:00    3757          Stade de France  1694432   \n",
       "9  2016-06-26 19:00:00    5629        Stadium Municipal  1694431   \n",
       "\n",
       "                          label                      date groupName  \\\n",
       "0  Portugal - France, 1 - 0 (E) 2016-07-10 21:00:00-02:00   Group F   \n",
       "1       Germany - France, 0 - 2 2016-07-07 21:00:00-02:00   Group F   \n",
       "2       Portugal - Wales, 2 - 0 2016-07-06 21:00:00-02:00   Group F   \n",
       "3       France - Iceland, 5 - 2 2016-07-03 21:00:00-02:00   Group F   \n",
       "4    Germany - Italy, 1 - 1 (P) 2016-07-02 21:00:00-02:00   Group F   \n",
       "5        Wales - Belgium, 3 - 1 2016-07-01 21:00:00-02:00   Group F   \n",
       "6  Poland - Portugal, 1 - 1 (P) 2016-06-30 21:00:00-02:00   Group F   \n",
       "7      England - Iceland, 1 - 2 2016-06-27 21:00:00-02:00   Group F   \n",
       "8          Italy - Spain, 2 - 0 2016-06-27 18:00:00-02:00   Group F   \n",
       "9      Hungary - Belgium, 0 - 4 2016-06-26 21:00:00-02:00   Group F   \n",
       "\n",
       "                                            referees   duration  competitionId  \n",
       "0  [{'refereeId': 381617, 'role': 'referee'}, {'r...  ExtraTime            102  \n",
       "1  [{'refereeId': 377209, 'role': 'referee'}, {'r...    Regular            102  \n",
       "2  [{'refereeId': 384373, 'role': 'referee'}, {'r...    Regular            102  \n",
       "3  [{'refereeId': 377215, 'role': 'referee'}, {'r...    Regular            102  \n",
       "4  [{'refereeId': 383185, 'role': 'referee'}, {'r...  Penalties            102  \n",
       "5  [{'refereeId': 384921, 'role': 'referee'}, {'r...    Regular            102  \n",
       "6  [{'refereeId': 384898, 'role': 'referee'}, {'r...  Penalties            102  \n",
       "7  [{'refereeId': 384921, 'role': 'referee'}, {'r...    Regular            102  \n",
       "8  [{'refereeId': 384995, 'role': 'referee'}, {'r...    Regular            102  \n",
       "9  [{'refereeId': 384932, 'role': 'referee'}, {'r...    Regular            102  "
      ]
     },
     "execution_count": 28,
     "metadata": {},
     "output_type": "execute_result"
    }
   ],
   "source": [
    "df_matches.head(10)"
   ]
  },
  {
   "cell_type": "code",
   "execution_count": 29,
   "metadata": {},
   "outputs": [],
   "source": [
    "df_matches.to_hdf('wyscout.h5', key='matches', mode='a')"
   ]
  },
  {
   "cell_type": "markdown",
   "metadata": {},
   "source": [
    "### Events"
   ]
  },
  {
   "cell_type": "markdown",
   "metadata": {},
   "source": [
    "The following cells read the `events.json` files for the selected competitions into a `DataFrame` object and store that object in the `wyscout.h5` HDF5 file under the key `events/match_<match-id>`."
   ]
  },
  {
   "cell_type": "code",
   "execution_count": 30,
   "metadata": {},
   "outputs": [],
   "source": [
    "for competition in competitions:\n",
    "    competition_name = competition.replace(' ', '_')\n",
    "    file_events = f'events_{competition_name}.json'\n",
    "    json_events = read_json_file(file_events)\n",
    "    df_events = pd.read_json(json_events)\n",
    "    df_events_matches = df_events.groupby('matchId', as_index=False)\n",
    "    for match_id, df_events_match in df_events_matches:\n",
    "        df_events_match.to_hdf('wyscout.h5', key=f'events/match_{match_id}', mode='a')"
   ]
  },
  {
   "cell_type": "markdown",
   "metadata": {},
   "source": [
    "## Convert the Wyscout data to the SPADL representation"
   ]
  },
  {
   "cell_type": "markdown",
   "metadata": {},
   "source": [
    "The following cell calls the `convert_to_spadl` function from the `socceraction` library to convert the `wyscout.h5` HDF5 file into the `spadl.h5` HDF5 file."
   ]
  },
  {
   "cell_type": "code",
   "execution_count": 31,
   "metadata": {},
   "outputs": [
    {
     "name": "stderr",
     "output_type": "stream",
     "text": [
      "\r",
      "  0%|                                                                                         | 0/51 [00:00<?, ?game/s]"
     ]
    },
    {
     "name": "stdout",
     "output_type": "stream",
     "text": [
      "...Inserting actiontypes\n",
      "...Inserting bodyparts\n",
      "...Inserting results\n",
      "...Converting games\n",
      "...Converting players\n",
      "...Converting teams\n",
      "...Generating player_games\n"
     ]
    },
    {
     "name": "stderr",
     "output_type": "stream",
     "text": [
      "100%|████████████████████████████████████████████████████████████████████████████████| 51/51 [00:01<00:00, 36.97game/s]\n",
      "  0%|                                                                                         | 0/51 [00:00<?, ?game/s]"
     ]
    },
    {
     "name": "stdout",
     "output_type": "stream",
     "text": [
      "...Converting events to actions\n"
     ]
    },
    {
     "name": "stderr",
     "output_type": "stream",
     "text": [
      "100%|████████████████████████████████████████████████████████████████████████████████| 51/51 [00:40<00:00,  1.25game/s]\n"
     ]
    }
   ],
   "source": [
    "convert_to_spadl('wyscout.h5', 'spadl.h5')"
   ]
  },
  {
   "cell_type": "markdown",
   "metadata": {},
   "source": [
    "# Value game states"
   ]
  },
  {
   "cell_type": "markdown",
   "metadata": {},
   "source": [
    "This section generates features and labels for the game states, trains a predictive machine learning model for each label, and values the game states by applying the trained machine learning models.\n",
    "\n",
    "1. Generate the features to describe the game states;\n",
    "2. Generate the labels that capture the value of the game states;\n",
    "3. Compose a dataset by selecting a set of features and the labels of the game states;\n",
    "4. Train predictive machine learning models using the dataset;\n",
    "5. Value the game states using the trained predictive machine learning model.\n",
    "\n",
    "**Note:** The code in this section is based on the [2-compute-features-and-labels.ipynb](https://github.com/ML-KULeuven/socceraction/blob/master/public-notebooks/2-compute-features-and-labels.ipynb) and [3-estimate-scoring-and-conceding-probabilities.ipynb](https://github.com/ML-KULeuven/socceraction/blob/master/public-notebooks/3-estimate-scoring-and-conceding-probabilities.ipynb) notebooks in the `socceraction` repository."
   ]
  },
  {
   "cell_type": "code",
   "execution_count": 32,
   "metadata": {},
   "outputs": [],
   "source": [
    "df_games = pd.read_hdf('spadl.h5', key='games')\n",
    "df_actiontypes = pd.read_hdf('spadl.h5', key='actiontypes')\n",
    "df_bodyparts = pd.read_hdf('spadl.h5', key='bodyparts')\n",
    "df_results = pd.read_hdf('spadl.h5', key='results')"
   ]
  },
  {
   "cell_type": "code",
   "execution_count": 33,
   "metadata": {},
   "outputs": [],
   "source": [
    "nb_prev_actions = 3"
   ]
  },
  {
   "cell_type": "markdown",
   "metadata": {},
   "source": [
    "## Generate game state features"
   ]
  },
  {
   "cell_type": "markdown",
   "metadata": {},
   "source": [
    "The following cell lists a number of *feature generators* from the `features` module in the `socceraction` library. Each function expects either a `DataFrame` object containing actions (i.e., individual actions) or a list of `DataFrame` objects containing consecutive actions (i.e., game states), and returns the corresponding *feature* for the individual action or game state."
   ]
  },
  {
   "cell_type": "code",
   "execution_count": 34,
   "metadata": {},
   "outputs": [],
   "source": [
    "functions_features = [\n",
    "    features.actiontype_onehot,\n",
    "    features.bodypart_onehot,\n",
    "    features.result_onehot,\n",
    "    features.goalscore,\n",
    "    features.startlocation,\n",
    "    features.endlocation,\n",
    "    features.movement,\n",
    "    features.space_delta,\n",
    "    features.startpolar,\n",
    "    features.endpolar,\n",
    "    features.team,\n",
    "    features.time_delta\n",
    "]"
   ]
  },
  {
   "cell_type": "markdown",
   "metadata": {},
   "source": [
    "The following cell generates game states from consecutive actions in each game and computes the features for each game state.\n",
    "\n",
    "1. Obtain the actions for the game (i.e., `df_actions`) by looping through the games;\n",
    "2. Construct game states of a given length from the actions (i.e., `dfs_gamestates`);\n",
    "3. Compute the features for the constructed game states (i.e., `df_features`) by looping through the list of *feature generators*."
   ]
  },
  {
   "cell_type": "code",
   "execution_count": 35,
   "metadata": {},
   "outputs": [
    {
     "data": {
      "application/vnd.jupyter.widget-view+json": {
       "model_id": "cda4f08b58b44d2f917b8928fbc0d50b",
       "version_major": 2,
       "version_minor": 0
      },
      "text/plain": [
       "HBox(children=(FloatProgress(value=0.0, max=51.0), HTML(value='')))"
      ]
     },
     "metadata": {},
     "output_type": "display_data"
    },
    {
     "name": "stdout",
     "output_type": "stream",
     "text": [
      "\n"
     ]
    }
   ],
   "source": [
    "for _, game in tqdm(df_games.iterrows(), total=len(df_games)):\n",
    "    game_id = game['game_id']\n",
    "    df_actions = pd.read_hdf('spadl.h5', key=f'actions/game_{game_id}')\n",
    "    df_actions = (df_actions\n",
    "        .merge(df_actiontypes, how='left')\n",
    "        .merge(df_results, how='left')\n",
    "        .merge(df_bodyparts, how='left')\n",
    "        .reset_index(drop=True)\n",
    "    )\n",
    "    \n",
    "    dfs_gamestates = features.gamestates(df_actions, nb_prev_actions=nb_prev_actions)\n",
    "    dfs_gamestates = features.play_left_to_right(dfs_gamestates, game['home_team_id'])\n",
    "    \n",
    "    df_features = pd.concat([function(dfs_gamestates) for function in functions_features], axis=1)\n",
    "    df_features.to_hdf('features.h5', key=f'game_{game_id}')"
   ]
  },
  {
   "cell_type": "markdown",
   "metadata": {},
   "source": [
    "## Generate game state labels"
   ]
  },
  {
   "cell_type": "markdown",
   "metadata": {},
   "source": [
    "The following cell lists a number of *label generators* from the `labels` module in the `socceraction` library. Each function expects either a `DataFrame` object containing actions (i.e., individual actions) or a list of `DataFrame` objects containing consecutive actions (i.e., game states), and returns the corresponding *label* for the individual action or game state."
   ]
  },
  {
   "cell_type": "code",
   "execution_count": 36,
   "metadata": {},
   "outputs": [],
   "source": [
    "functions_labels = [\n",
    "    labels.scores,\n",
    "    labels.concedes\n",
    "]"
   ]
  },
  {
   "cell_type": "markdown",
   "metadata": {},
   "source": [
    "The following cell computes the labels for each action:\n",
    "\n",
    "1. Obtain the actions for the game (i.e., `df_actions`) by looping through the games;\n",
    "2. Compute the labels for the actions (i.e., `df_labels`) by looping through the list of *label generators*."
   ]
  },
  {
   "cell_type": "code",
   "execution_count": 37,
   "metadata": {},
   "outputs": [
    {
     "data": {
      "application/vnd.jupyter.widget-view+json": {
       "model_id": "4a97958def9a4825b7dbd846cfb2a3f7",
       "version_major": 2,
       "version_minor": 0
      },
      "text/plain": [
       "HBox(children=(FloatProgress(value=0.0, max=51.0), HTML(value='')))"
      ]
     },
     "metadata": {},
     "output_type": "display_data"
    },
    {
     "name": "stdout",
     "output_type": "stream",
     "text": [
      "\n"
     ]
    }
   ],
   "source": [
    "for _, game in tqdm(df_games.iterrows(), total=len(df_games)):\n",
    "    game_id = game['game_id']\n",
    "    df_actions = pd.read_hdf('spadl.h5', key=f'actions/game_{game_id}')\n",
    "    df_actions = (df_actions\n",
    "        .merge(df_actiontypes, how='left')\n",
    "        .merge(df_results, how='left')\n",
    "        .merge(df_bodyparts, how='left')\n",
    "        .reset_index(drop=True)\n",
    "    )\n",
    "    \n",
    "    df_labels = pd.concat([function(df_actions) for function in functions_labels], axis=1)\n",
    "    df_labels.to_hdf('labels.h5', key=f'game_{game_id}')"
   ]
  },
  {
   "cell_type": "markdown",
   "metadata": {},
   "source": [
    "## Generate dataset"
   ]
  },
  {
   "cell_type": "markdown",
   "metadata": {},
   "source": [
    "The following cell generates a list of names for the features to be included in the dataset."
   ]
  },
  {
   "cell_type": "code",
   "execution_count": 38,
   "metadata": {},
   "outputs": [],
   "source": [
    "columns_features = features.feature_column_names(functions_features, nb_prev_actions=nb_prev_actions)"
   ]
  },
  {
   "cell_type": "markdown",
   "metadata": {},
   "source": [
    "The following cell obtains the relevant features for each game and stores them in the `df_features` `DataFrame` object."
   ]
  },
  {
   "cell_type": "code",
   "execution_count": 39,
   "metadata": {},
   "outputs": [
    {
     "data": {
      "application/vnd.jupyter.widget-view+json": {
       "model_id": "11d040b118e244e3b1fe85b071b4db08",
       "version_major": 2,
       "version_minor": 0
      },
      "text/plain": [
       "HBox(children=(FloatProgress(value=0.0, max=51.0), HTML(value='')))"
      ]
     },
     "metadata": {},
     "output_type": "display_data"
    },
    {
     "name": "stdout",
     "output_type": "stream",
     "text": [
      "\n"
     ]
    }
   ],
   "source": [
    "dfs_features = []\n",
    "for _, game in tqdm(df_games.iterrows(), total=len(df_games)):\n",
    "    game_id = game['game_id']\n",
    "    df_features = pd.read_hdf('features.h5', key=f'game_{game_id}')\n",
    "    dfs_features.append(df_features[columns_features])\n",
    "df_features = pd.concat(dfs_features).reset_index(drop=True)"
   ]
  },
  {
   "cell_type": "code",
   "execution_count": 53,
   "metadata": {},
   "outputs": [
    {
     "data": {
      "text/html": [
       "<div>\n",
       "<style scoped>\n",
       "    .dataframe tbody tr th:only-of-type {\n",
       "        vertical-align: middle;\n",
       "    }\n",
       "\n",
       "    .dataframe tbody tr th {\n",
       "        vertical-align: top;\n",
       "    }\n",
       "\n",
       "    .dataframe thead th {\n",
       "        text-align: right;\n",
       "    }\n",
       "</style>\n",
       "<table border=\"1\" class=\"dataframe\">\n",
       "  <thead>\n",
       "    <tr style=\"text-align: right;\">\n",
       "      <th></th>\n",
       "      <th>type_pass_a0</th>\n",
       "      <th>type_cross_a0</th>\n",
       "      <th>type_throw_in_a0</th>\n",
       "      <th>type_freekick_crossed_a0</th>\n",
       "      <th>type_freekick_short_a0</th>\n",
       "      <th>type_corner_crossed_a0</th>\n",
       "      <th>type_corner_short_a0</th>\n",
       "      <th>type_take_on_a0</th>\n",
       "      <th>type_foul_a0</th>\n",
       "      <th>type_tackle_a0</th>\n",
       "      <th>...</th>\n",
       "      <th>end_dist_to_goal_a0</th>\n",
       "      <th>end_angle_to_goal_a0</th>\n",
       "      <th>end_dist_to_goal_a1</th>\n",
       "      <th>end_angle_to_goal_a1</th>\n",
       "      <th>end_dist_to_goal_a2</th>\n",
       "      <th>end_angle_to_goal_a2</th>\n",
       "      <th>team_1</th>\n",
       "      <th>team_2</th>\n",
       "      <th>time_delta_1</th>\n",
       "      <th>time_delta_2</th>\n",
       "    </tr>\n",
       "  </thead>\n",
       "  <tbody>\n",
       "    <tr>\n",
       "      <th>0</th>\n",
       "      <td>True</td>\n",
       "      <td>False</td>\n",
       "      <td>False</td>\n",
       "      <td>False</td>\n",
       "      <td>False</td>\n",
       "      <td>False</td>\n",
       "      <td>False</td>\n",
       "      <td>False</td>\n",
       "      <td>False</td>\n",
       "      <td>False</td>\n",
       "      <td>...</td>\n",
       "      <td>80.158369</td>\n",
       "      <td>0.187731</td>\n",
       "      <td>80.158369</td>\n",
       "      <td>0.187731</td>\n",
       "      <td>80.158369</td>\n",
       "      <td>0.187731</td>\n",
       "      <td>True</td>\n",
       "      <td>True</td>\n",
       "      <td>0.000000</td>\n",
       "      <td>0.000000</td>\n",
       "    </tr>\n",
       "    <tr>\n",
       "      <th>1</th>\n",
       "      <td>True</td>\n",
       "      <td>False</td>\n",
       "      <td>False</td>\n",
       "      <td>False</td>\n",
       "      <td>False</td>\n",
       "      <td>False</td>\n",
       "      <td>False</td>\n",
       "      <td>False</td>\n",
       "      <td>False</td>\n",
       "      <td>False</td>\n",
       "      <td>...</td>\n",
       "      <td>78.371487</td>\n",
       "      <td>0.354440</td>\n",
       "      <td>80.158369</td>\n",
       "      <td>0.187731</td>\n",
       "      <td>80.158369</td>\n",
       "      <td>0.187731</td>\n",
       "      <td>True</td>\n",
       "      <td>True</td>\n",
       "      <td>2.191167</td>\n",
       "      <td>2.191167</td>\n",
       "    </tr>\n",
       "    <tr>\n",
       "      <th>2</th>\n",
       "      <td>True</td>\n",
       "      <td>False</td>\n",
       "      <td>False</td>\n",
       "      <td>False</td>\n",
       "      <td>False</td>\n",
       "      <td>False</td>\n",
       "      <td>False</td>\n",
       "      <td>False</td>\n",
       "      <td>False</td>\n",
       "      <td>False</td>\n",
       "      <td>...</td>\n",
       "      <td>71.690861</td>\n",
       "      <td>0.258985</td>\n",
       "      <td>78.371487</td>\n",
       "      <td>0.354440</td>\n",
       "      <td>80.158369</td>\n",
       "      <td>0.187731</td>\n",
       "      <td>True</td>\n",
       "      <td>True</td>\n",
       "      <td>2.557667</td>\n",
       "      <td>4.748834</td>\n",
       "    </tr>\n",
       "    <tr>\n",
       "      <th>3</th>\n",
       "      <td>True</td>\n",
       "      <td>False</td>\n",
       "      <td>False</td>\n",
       "      <td>False</td>\n",
       "      <td>False</td>\n",
       "      <td>False</td>\n",
       "      <td>False</td>\n",
       "      <td>False</td>\n",
       "      <td>False</td>\n",
       "      <td>False</td>\n",
       "      <td>...</td>\n",
       "      <td>85.321753</td>\n",
       "      <td>0.176247</td>\n",
       "      <td>71.690861</td>\n",
       "      <td>0.258985</td>\n",
       "      <td>78.371487</td>\n",
       "      <td>0.354440</td>\n",
       "      <td>True</td>\n",
       "      <td>True</td>\n",
       "      <td>1.044167</td>\n",
       "      <td>3.601834</td>\n",
       "    </tr>\n",
       "    <tr>\n",
       "      <th>4</th>\n",
       "      <td>True</td>\n",
       "      <td>False</td>\n",
       "      <td>False</td>\n",
       "      <td>False</td>\n",
       "      <td>False</td>\n",
       "      <td>False</td>\n",
       "      <td>False</td>\n",
       "      <td>False</td>\n",
       "      <td>False</td>\n",
       "      <td>False</td>\n",
       "      <td>...</td>\n",
       "      <td>79.592694</td>\n",
       "      <td>0.357874</td>\n",
       "      <td>85.321753</td>\n",
       "      <td>0.176247</td>\n",
       "      <td>71.690861</td>\n",
       "      <td>0.258985</td>\n",
       "      <td>True</td>\n",
       "      <td>True</td>\n",
       "      <td>3.048458</td>\n",
       "      <td>4.092625</td>\n",
       "    </tr>\n",
       "    <tr>\n",
       "      <th>5</th>\n",
       "      <td>False</td>\n",
       "      <td>False</td>\n",
       "      <td>True</td>\n",
       "      <td>False</td>\n",
       "      <td>False</td>\n",
       "      <td>False</td>\n",
       "      <td>False</td>\n",
       "      <td>False</td>\n",
       "      <td>False</td>\n",
       "      <td>False</td>\n",
       "      <td>...</td>\n",
       "      <td>23.519770</td>\n",
       "      <td>0.895657</td>\n",
       "      <td>41.285553</td>\n",
       "      <td>0.741367</td>\n",
       "      <td>25.783747</td>\n",
       "      <td>0.618987</td>\n",
       "      <td>False</td>\n",
       "      <td>False</td>\n",
       "      <td>13.767090</td>\n",
       "      <td>16.815548</td>\n",
       "    </tr>\n",
       "    <tr>\n",
       "      <th>6</th>\n",
       "      <td>True</td>\n",
       "      <td>False</td>\n",
       "      <td>False</td>\n",
       "      <td>False</td>\n",
       "      <td>False</td>\n",
       "      <td>False</td>\n",
       "      <td>False</td>\n",
       "      <td>False</td>\n",
       "      <td>False</td>\n",
       "      <td>False</td>\n",
       "      <td>...</td>\n",
       "      <td>31.518001</td>\n",
       "      <td>1.085580</td>\n",
       "      <td>23.519770</td>\n",
       "      <td>0.895657</td>\n",
       "      <td>41.285553</td>\n",
       "      <td>0.741367</td>\n",
       "      <td>True</td>\n",
       "      <td>False</td>\n",
       "      <td>1.193161</td>\n",
       "      <td>14.960251</td>\n",
       "    </tr>\n",
       "    <tr>\n",
       "      <th>7</th>\n",
       "      <td>False</td>\n",
       "      <td>False</td>\n",
       "      <td>False</td>\n",
       "      <td>False</td>\n",
       "      <td>False</td>\n",
       "      <td>False</td>\n",
       "      <td>False</td>\n",
       "      <td>False</td>\n",
       "      <td>False</td>\n",
       "      <td>False</td>\n",
       "      <td>...</td>\n",
       "      <td>89.647658</td>\n",
       "      <td>0.388999</td>\n",
       "      <td>94.506002</td>\n",
       "      <td>0.299464</td>\n",
       "      <td>92.147597</td>\n",
       "      <td>0.200588</td>\n",
       "      <td>False</td>\n",
       "      <td>False</td>\n",
       "      <td>3.420165</td>\n",
       "      <td>4.613326</td>\n",
       "    </tr>\n",
       "    <tr>\n",
       "      <th>8</th>\n",
       "      <td>False</td>\n",
       "      <td>False</td>\n",
       "      <td>True</td>\n",
       "      <td>False</td>\n",
       "      <td>False</td>\n",
       "      <td>False</td>\n",
       "      <td>False</td>\n",
       "      <td>False</td>\n",
       "      <td>False</td>\n",
       "      <td>False</td>\n",
       "      <td>...</td>\n",
       "      <td>25.144733</td>\n",
       "      <td>1.045928</td>\n",
       "      <td>40.524098</td>\n",
       "      <td>0.995456</td>\n",
       "      <td>31.518001</td>\n",
       "      <td>1.085580</td>\n",
       "      <td>False</td>\n",
       "      <td>True</td>\n",
       "      <td>10.269111</td>\n",
       "      <td>13.689276</td>\n",
       "    </tr>\n",
       "    <tr>\n",
       "      <th>9</th>\n",
       "      <td>True</td>\n",
       "      <td>False</td>\n",
       "      <td>False</td>\n",
       "      <td>False</td>\n",
       "      <td>False</td>\n",
       "      <td>False</td>\n",
       "      <td>False</td>\n",
       "      <td>False</td>\n",
       "      <td>False</td>\n",
       "      <td>False</td>\n",
       "      <td>...</td>\n",
       "      <td>36.732596</td>\n",
       "      <td>0.890698</td>\n",
       "      <td>25.144733</td>\n",
       "      <td>1.045928</td>\n",
       "      <td>40.524098</td>\n",
       "      <td>0.995456</td>\n",
       "      <td>True</td>\n",
       "      <td>False</td>\n",
       "      <td>1.401809</td>\n",
       "      <td>11.670920</td>\n",
       "    </tr>\n",
       "  </tbody>\n",
       "</table>\n",
       "<p>10 rows × 142 columns</p>\n",
       "</div>"
      ],
      "text/plain": [
       "   type_pass_a0  type_cross_a0  type_throw_in_a0  type_freekick_crossed_a0  \\\n",
       "0          True          False             False                     False   \n",
       "1          True          False             False                     False   \n",
       "2          True          False             False                     False   \n",
       "3          True          False             False                     False   \n",
       "4          True          False             False                     False   \n",
       "5         False          False              True                     False   \n",
       "6          True          False             False                     False   \n",
       "7         False          False             False                     False   \n",
       "8         False          False              True                     False   \n",
       "9          True          False             False                     False   \n",
       "\n",
       "   type_freekick_short_a0  type_corner_crossed_a0  type_corner_short_a0  \\\n",
       "0                   False                   False                 False   \n",
       "1                   False                   False                 False   \n",
       "2                   False                   False                 False   \n",
       "3                   False                   False                 False   \n",
       "4                   False                   False                 False   \n",
       "5                   False                   False                 False   \n",
       "6                   False                   False                 False   \n",
       "7                   False                   False                 False   \n",
       "8                   False                   False                 False   \n",
       "9                   False                   False                 False   \n",
       "\n",
       "   type_take_on_a0  type_foul_a0  type_tackle_a0  ...  end_dist_to_goal_a0  \\\n",
       "0            False         False           False  ...            80.158369   \n",
       "1            False         False           False  ...            78.371487   \n",
       "2            False         False           False  ...            71.690861   \n",
       "3            False         False           False  ...            85.321753   \n",
       "4            False         False           False  ...            79.592694   \n",
       "5            False         False           False  ...            23.519770   \n",
       "6            False         False           False  ...            31.518001   \n",
       "7            False         False           False  ...            89.647658   \n",
       "8            False         False           False  ...            25.144733   \n",
       "9            False         False           False  ...            36.732596   \n",
       "\n",
       "   end_angle_to_goal_a0  end_dist_to_goal_a1  end_angle_to_goal_a1  \\\n",
       "0              0.187731            80.158369              0.187731   \n",
       "1              0.354440            80.158369              0.187731   \n",
       "2              0.258985            78.371487              0.354440   \n",
       "3              0.176247            71.690861              0.258985   \n",
       "4              0.357874            85.321753              0.176247   \n",
       "5              0.895657            41.285553              0.741367   \n",
       "6              1.085580            23.519770              0.895657   \n",
       "7              0.388999            94.506002              0.299464   \n",
       "8              1.045928            40.524098              0.995456   \n",
       "9              0.890698            25.144733              1.045928   \n",
       "\n",
       "   end_dist_to_goal_a2  end_angle_to_goal_a2  team_1  team_2  time_delta_1  \\\n",
       "0            80.158369              0.187731    True    True      0.000000   \n",
       "1            80.158369              0.187731    True    True      2.191167   \n",
       "2            80.158369              0.187731    True    True      2.557667   \n",
       "3            78.371487              0.354440    True    True      1.044167   \n",
       "4            71.690861              0.258985    True    True      3.048458   \n",
       "5            25.783747              0.618987   False   False     13.767090   \n",
       "6            41.285553              0.741367    True   False      1.193161   \n",
       "7            92.147597              0.200588   False   False      3.420165   \n",
       "8            31.518001              1.085580   False    True     10.269111   \n",
       "9            40.524098              0.995456    True   False      1.401809   \n",
       "\n",
       "   time_delta_2  \n",
       "0      0.000000  \n",
       "1      2.191167  \n",
       "2      4.748834  \n",
       "3      3.601834  \n",
       "4      4.092625  \n",
       "5     16.815548  \n",
       "6     14.960251  \n",
       "7      4.613326  \n",
       "8     13.689276  \n",
       "9     11.670920  \n",
       "\n",
       "[10 rows x 142 columns]"
      ]
     },
     "execution_count": 53,
     "metadata": {},
     "output_type": "execute_result"
    }
   ],
   "source": [
    "df_features.head(10)"
   ]
  },
  {
   "cell_type": "markdown",
   "metadata": {},
   "source": [
    "The following cell lists the names of the labels to be included in the dataset."
   ]
  },
  {
   "cell_type": "code",
   "execution_count": 55,
   "metadata": {},
   "outputs": [],
   "source": [
    "columns_labels = [\n",
    "    'scores',\n",
    "    'concedes'\n",
    "]"
   ]
  },
  {
   "cell_type": "markdown",
   "metadata": {},
   "source": [
    "The following cell obtains the relevant labels for each game and stores them in the `df_labels` `DataFrame` object."
   ]
  },
  {
   "cell_type": "code",
   "execution_count": 42,
   "metadata": {},
   "outputs": [
    {
     "data": {
      "application/vnd.jupyter.widget-view+json": {
       "model_id": "1c4c39f68494461b84e7f455576e18e3",
       "version_major": 2,
       "version_minor": 0
      },
      "text/plain": [
       "HBox(children=(FloatProgress(value=0.0, max=51.0), HTML(value='')))"
      ]
     },
     "metadata": {},
     "output_type": "display_data"
    },
    {
     "name": "stdout",
     "output_type": "stream",
     "text": [
      "\n"
     ]
    }
   ],
   "source": [
    "dfs_labels = []\n",
    "for _, game in tqdm(df_games.iterrows(), total=len(df_games)):\n",
    "    game_id = game['game_id']\n",
    "    df_labels = pd.read_hdf('labels.h5', key=f'game_{game_id}')\n",
    "    dfs_labels.append(df_labels[columns_labels])\n",
    "df_labels = pd.concat(dfs_labels).reset_index(drop=True)"
   ]
  },
  {
   "cell_type": "code",
   "execution_count": 43,
   "metadata": {},
   "outputs": [
    {
     "data": {
      "text/html": [
       "<div>\n",
       "<style scoped>\n",
       "    .dataframe tbody tr th:only-of-type {\n",
       "        vertical-align: middle;\n",
       "    }\n",
       "\n",
       "    .dataframe tbody tr th {\n",
       "        vertical-align: top;\n",
       "    }\n",
       "\n",
       "    .dataframe thead th {\n",
       "        text-align: right;\n",
       "    }\n",
       "</style>\n",
       "<table border=\"1\" class=\"dataframe\">\n",
       "  <thead>\n",
       "    <tr style=\"text-align: right;\">\n",
       "      <th></th>\n",
       "      <th>scores</th>\n",
       "      <th>concedes</th>\n",
       "    </tr>\n",
       "  </thead>\n",
       "  <tbody>\n",
       "    <tr>\n",
       "      <th>0</th>\n",
       "      <td>False</td>\n",
       "      <td>False</td>\n",
       "    </tr>\n",
       "    <tr>\n",
       "      <th>1</th>\n",
       "      <td>False</td>\n",
       "      <td>False</td>\n",
       "    </tr>\n",
       "    <tr>\n",
       "      <th>2</th>\n",
       "      <td>False</td>\n",
       "      <td>False</td>\n",
       "    </tr>\n",
       "    <tr>\n",
       "      <th>3</th>\n",
       "      <td>False</td>\n",
       "      <td>False</td>\n",
       "    </tr>\n",
       "    <tr>\n",
       "      <th>4</th>\n",
       "      <td>False</td>\n",
       "      <td>False</td>\n",
       "    </tr>\n",
       "    <tr>\n",
       "      <th>5</th>\n",
       "      <td>False</td>\n",
       "      <td>False</td>\n",
       "    </tr>\n",
       "    <tr>\n",
       "      <th>6</th>\n",
       "      <td>False</td>\n",
       "      <td>False</td>\n",
       "    </tr>\n",
       "    <tr>\n",
       "      <th>7</th>\n",
       "      <td>False</td>\n",
       "      <td>False</td>\n",
       "    </tr>\n",
       "    <tr>\n",
       "      <th>8</th>\n",
       "      <td>False</td>\n",
       "      <td>False</td>\n",
       "    </tr>\n",
       "    <tr>\n",
       "      <th>9</th>\n",
       "      <td>False</td>\n",
       "      <td>False</td>\n",
       "    </tr>\n",
       "  </tbody>\n",
       "</table>\n",
       "</div>"
      ],
      "text/plain": [
       "   scores  concedes\n",
       "0   False     False\n",
       "1   False     False\n",
       "2   False     False\n",
       "3   False     False\n",
       "4   False     False\n",
       "5   False     False\n",
       "6   False     False\n",
       "7   False     False\n",
       "8   False     False\n",
       "9   False     False"
      ]
     },
     "execution_count": 43,
     "metadata": {},
     "output_type": "execute_result"
    }
   ],
   "source": [
    "df_labels.head(10)"
   ]
  },
  {
   "cell_type": "code",
   "execution_count": 85,
   "metadata": {},
   "outputs": [
    {
     "data": {
      "image/png": "[encoded data removed]",
      "text/plain": [
       "<Figure size 1296x720 with 1 Axes>"
      ]
     },
     "metadata": {
      "needs_background": "light"
     },
     "output_type": "display_data"
    }
   ],
   "source": [
    "scaler = StandardScaler()\n",
    "pca = PCA()\n",
    "from sklearn.pipeline import make_pipeline\n",
    "\n",
    "pipeline_pca = make_pipeline(scaler, pca)\n",
    "pca_feat = pipeline_pca.fit_transform(df_features) \n",
    "\n",
    "\n",
    "import matplotlib.pyplot as plt\n",
    "\n",
    "\n",
    "features_pca = range(pca.n_components_)\n",
    "plt.figure(figsize = (18,10))\n",
    "plt.bar(features_pca, pca.explained_variance_)\n",
    "plt.xticks(features_pca, rotation = 90)\n",
    "plt.xlabel('PCA feature')\n",
    "plt.ylabel('Variance')\n",
    "plt.show()"
   ]
  },
  {
   "cell_type": "code",
   "execution_count": 87,
   "metadata": {},
   "outputs": [],
   "source": [
    "pca = PCA(n_components = 77)\n",
    "pipeline_pca = make_pipeline(scaler, pca)\n",
    "pca_feat = pipeline_pca.fit_transform(df_features) "
   ]
  },
  {
   "cell_type": "markdown",
   "metadata": {},
   "source": [
    "## Train classifiers"
   ]
  },
  {
   "cell_type": "markdown",
   "metadata": {},
   "source": [
    "The following cell trains an XGBoost classifier for each label using the computed features. For each label:\n",
    "1. Construct an XGBoost classifier with default hyperparameters;\n",
    "2. Train the classifier using the computed features and the label;\n",
    "3. Store the trained classifier in the `models` `dict`."
   ]
  },
  {
   "cell_type": "code",
   "execution_count": 88,
   "metadata": {},
   "outputs": [
    {
     "name": "stdout",
     "output_type": "stream",
     "text": [
      "Wall time: 57.6 s\n"
     ]
    }
   ],
   "source": [
    "%%time\n",
    "models = {}\n",
    "for column_labels in columns_labels:\n",
    "    model = XGBClassifier()\n",
    "    model.fit(pca_feat, df_labels[column_labels])\n",
    "    models[column_labels] = model"
   ]
  },
  {
   "cell_type": "markdown",
   "metadata": {},
   "source": [
    "## Estimate probabilities"
   ]
  },
  {
   "cell_type": "markdown",
   "metadata": {},
   "source": [
    "The following cell predicts the labels for the game states using the trained XGBoost classifier. For each label:\n",
    "1. Retrieve the model for the label;\n",
    "2. Estimate the probabilities of the labels being `False` and `True` given the computed features;\n",
    "3. Keep the probabilities for the `True` label;\n",
    "4. Store the probabilities as a `Series` object in the `dfs_predictions` `dict`."
   ]
  },
  {
   "cell_type": "code",
   "execution_count": 111,
   "metadata": {},
   "outputs": [],
   "source": [
    "dfs_predictions = {}\n",
    "for column_labels in columns_labels:\n",
    "    model = models[column_labels]\n",
    "    probabilities = model.predict_proba(pca_feat)\n",
    "    predictions = probabilities[:, 1]\n",
    "    dfs_predictions[column_labels] = pd.Series(predictions)\n",
    "df_predictions = pd.concat(dfs_predictions, axis=1)"
   ]
  },
  {
   "cell_type": "code",
   "execution_count": 112,
   "metadata": {},
   "outputs": [
    {
     "data": {
      "text/html": [
       "<div>\n",
       "<style scoped>\n",
       "    .dataframe tbody tr th:only-of-type {\n",
       "        vertical-align: middle;\n",
       "    }\n",
       "\n",
       "    .dataframe tbody tr th {\n",
       "        vertical-align: top;\n",
       "    }\n",
       "\n",
       "    .dataframe thead th {\n",
       "        text-align: right;\n",
       "    }\n",
       "</style>\n",
       "<table border=\"1\" class=\"dataframe\">\n",
       "  <thead>\n",
       "    <tr style=\"text-align: right;\">\n",
       "      <th></th>\n",
       "      <th>scores</th>\n",
       "      <th>concedes</th>\n",
       "    </tr>\n",
       "  </thead>\n",
       "  <tbody>\n",
       "    <tr>\n",
       "      <th>62687</th>\n",
       "      <td>0.003373</td>\n",
       "      <td>0.000229</td>\n",
       "    </tr>\n",
       "    <tr>\n",
       "      <th>62688</th>\n",
       "      <td>0.000705</td>\n",
       "      <td>0.000100</td>\n",
       "    </tr>\n",
       "    <tr>\n",
       "      <th>62689</th>\n",
       "      <td>0.002447</td>\n",
       "      <td>0.000033</td>\n",
       "    </tr>\n",
       "    <tr>\n",
       "      <th>62690</th>\n",
       "      <td>0.024767</td>\n",
       "      <td>0.000200</td>\n",
       "    </tr>\n",
       "    <tr>\n",
       "      <th>62691</th>\n",
       "      <td>0.000548</td>\n",
       "      <td>0.000069</td>\n",
       "    </tr>\n",
       "    <tr>\n",
       "      <th>62692</th>\n",
       "      <td>0.001079</td>\n",
       "      <td>0.000139</td>\n",
       "    </tr>\n",
       "    <tr>\n",
       "      <th>62693</th>\n",
       "      <td>0.000291</td>\n",
       "      <td>0.000010</td>\n",
       "    </tr>\n",
       "    <tr>\n",
       "      <th>62694</th>\n",
       "      <td>0.006773</td>\n",
       "      <td>0.000008</td>\n",
       "    </tr>\n",
       "    <tr>\n",
       "      <th>62695</th>\n",
       "      <td>0.001109</td>\n",
       "      <td>0.000186</td>\n",
       "    </tr>\n",
       "    <tr>\n",
       "      <th>62696</th>\n",
       "      <td>0.001630</td>\n",
       "      <td>0.004161</td>\n",
       "    </tr>\n",
       "  </tbody>\n",
       "</table>\n",
       "</div>"
      ],
      "text/plain": [
       "         scores  concedes\n",
       "62687  0.003373  0.000229\n",
       "62688  0.000705  0.000100\n",
       "62689  0.002447  0.000033\n",
       "62690  0.024767  0.000200\n",
       "62691  0.000548  0.000069\n",
       "62692  0.001079  0.000139\n",
       "62693  0.000291  0.000010\n",
       "62694  0.006773  0.000008\n",
       "62695  0.001109  0.000186\n",
       "62696  0.001630  0.004161"
      ]
     },
     "execution_count": 112,
     "metadata": {},
     "output_type": "execute_result"
    }
   ],
   "source": [
    "df_predictions.reset_index(drop = True, inplace = True)\n",
    "df_predictions.tail(10)"
   ]
  },
  {
   "cell_type": "markdown",
   "metadata": {},
   "source": [
    "The following cell obtains the `game_id` for each action in order to store the predictions per game."
   ]
  },
  {
   "cell_type": "code",
   "execution_count": 113,
   "metadata": {},
   "outputs": [
    {
     "data": {
      "application/vnd.jupyter.widget-view+json": {
       "model_id": "0bcfd71fd79843a9a414acfee9181202",
       "version_major": 2,
       "version_minor": 0
      },
      "text/plain": [
       "HBox(children=(FloatProgress(value=0.0, max=51.0), HTML(value='')))"
      ]
     },
     "metadata": {},
     "output_type": "display_data"
    },
    {
     "name": "stdout",
     "output_type": "stream",
     "text": [
      "\n"
     ]
    }
   ],
   "source": [
    "dfs_game_ids = []\n",
    "for _, game in tqdm(df_games.iterrows(), total=len(df_games)):\n",
    "    game_id = game['game_id']\n",
    "    df_actions = pd.read_hdf('spadl.h5', key=f'actions/game_{game_id}')\n",
    "    dfs_game_ids.append(df_actions['game_id'])\n",
    "df_game_ids = pd.concat(dfs_game_ids, axis=0).astype('int').reset_index(drop=True)"
   ]
  },
  {
   "cell_type": "markdown",
   "metadata": {},
   "source": [
    "The following cell concatenates the `DataFrame` objects with predictions and `game_id`s for each action into a single `DataFrame` object."
   ]
  },
  {
   "cell_type": "code",
   "execution_count": 114,
   "metadata": {},
   "outputs": [],
   "source": [
    "df_predictions = pd.concat([df_predictions, df_game_ids], axis=1)"
   ]
  },
  {
   "cell_type": "code",
   "execution_count": 115,
   "metadata": {},
   "outputs": [
    {
     "data": {
      "text/html": [
       "<div>\n",
       "<style scoped>\n",
       "    .dataframe tbody tr th:only-of-type {\n",
       "        vertical-align: middle;\n",
       "    }\n",
       "\n",
       "    .dataframe tbody tr th {\n",
       "        vertical-align: top;\n",
       "    }\n",
       "\n",
       "    .dataframe thead th {\n",
       "        text-align: right;\n",
       "    }\n",
       "</style>\n",
       "<table border=\"1\" class=\"dataframe\">\n",
       "  <thead>\n",
       "    <tr style=\"text-align: right;\">\n",
       "      <th></th>\n",
       "      <th>scores</th>\n",
       "      <th>concedes</th>\n",
       "      <th>game_id</th>\n",
       "    </tr>\n",
       "  </thead>\n",
       "  <tbody>\n",
       "    <tr>\n",
       "      <th>0</th>\n",
       "      <td>0.001135</td>\n",
       "      <td>0.000028</td>\n",
       "      <td>1694440</td>\n",
       "    </tr>\n",
       "    <tr>\n",
       "      <th>1</th>\n",
       "      <td>0.000128</td>\n",
       "      <td>0.000031</td>\n",
       "      <td>1694440</td>\n",
       "    </tr>\n",
       "    <tr>\n",
       "      <th>2</th>\n",
       "      <td>0.000414</td>\n",
       "      <td>0.000010</td>\n",
       "      <td>1694440</td>\n",
       "    </tr>\n",
       "    <tr>\n",
       "      <th>3</th>\n",
       "      <td>0.000354</td>\n",
       "      <td>0.000111</td>\n",
       "      <td>1694440</td>\n",
       "    </tr>\n",
       "    <tr>\n",
       "      <th>4</th>\n",
       "      <td>0.000466</td>\n",
       "      <td>0.000045</td>\n",
       "      <td>1694440</td>\n",
       "    </tr>\n",
       "    <tr>\n",
       "      <th>5</th>\n",
       "      <td>0.000681</td>\n",
       "      <td>0.000007</td>\n",
       "      <td>1694440</td>\n",
       "    </tr>\n",
       "    <tr>\n",
       "      <th>6</th>\n",
       "      <td>0.001596</td>\n",
       "      <td>0.000350</td>\n",
       "      <td>1694440</td>\n",
       "    </tr>\n",
       "    <tr>\n",
       "      <th>7</th>\n",
       "      <td>0.001886</td>\n",
       "      <td>0.000532</td>\n",
       "      <td>1694440</td>\n",
       "    </tr>\n",
       "    <tr>\n",
       "      <th>8</th>\n",
       "      <td>0.001556</td>\n",
       "      <td>0.001342</td>\n",
       "      <td>1694440</td>\n",
       "    </tr>\n",
       "    <tr>\n",
       "      <th>9</th>\n",
       "      <td>0.005188</td>\n",
       "      <td>0.000310</td>\n",
       "      <td>1694440</td>\n",
       "    </tr>\n",
       "  </tbody>\n",
       "</table>\n",
       "</div>"
      ],
      "text/plain": [
       "     scores  concedes  game_id\n",
       "0  0.001135  0.000028  1694440\n",
       "1  0.000128  0.000031  1694440\n",
       "2  0.000414  0.000010  1694440\n",
       "3  0.000354  0.000111  1694440\n",
       "4  0.000466  0.000045  1694440\n",
       "5  0.000681  0.000007  1694440\n",
       "6  0.001596  0.000350  1694440\n",
       "7  0.001886  0.000532  1694440\n",
       "8  0.001556  0.001342  1694440\n",
       "9  0.005188  0.000310  1694440"
      ]
     },
     "execution_count": 115,
     "metadata": {},
     "output_type": "execute_result"
    }
   ],
   "source": [
    "df_predictions.head(10)"
   ]
  },
  {
   "cell_type": "markdown",
   "metadata": {},
   "source": [
    "The following cell groups the predictions per game based on their `game_id`."
   ]
  },
  {
   "cell_type": "code",
   "execution_count": 116,
   "metadata": {},
   "outputs": [],
   "source": [
    "df_predictions_per_game = df_predictions.groupby('game_id')"
   ]
  },
  {
   "cell_type": "markdown",
   "metadata": {},
   "source": [
    "The following cell stores the predictions in the `predictions.h5` HDF5 file per game."
   ]
  },
  {
   "cell_type": "code",
   "execution_count": 117,
   "metadata": {},
   "outputs": [
    {
     "data": {
      "application/vnd.jupyter.widget-view+json": {
       "model_id": "83e0ff0f4fc54772b365cee5be3bd09c",
       "version_major": 2,
       "version_minor": 0
      },
      "text/plain": [
       "HBox(children=(FloatProgress(value=0.0, max=51.0), HTML(value='')))"
      ]
     },
     "metadata": {},
     "output_type": "display_data"
    },
    {
     "name": "stdout",
     "output_type": "stream",
     "text": [
      "\n"
     ]
    }
   ],
   "source": [
    "for game_id, df_predictions in tqdm(df_predictions_per_game):\n",
    "    df_predictions = df_predictions.reset_index(drop=True)\n",
    "    df_predictions[columns_labels].to_hdf('predictions.h5', key=f'game_{game_id}')"
   ]
  },
  {
   "cell_type": "markdown",
   "metadata": {},
   "source": [
    "# Value on-the-ball actions"
   ]
  },
  {
   "cell_type": "markdown",
   "metadata": {},
   "source": [
    "**Note:** The code in this section is based on the [4-compute-vaep-values.ipynb](https://github.com/ML-KULeuven/socceraction/blob/master/public-notebooks/4-compute-vaep-values.ipynb) notebook in the `socceraction` repository."
   ]
  },
  {
   "cell_type": "code",
   "execution_count": 118,
   "metadata": {},
   "outputs": [],
   "source": [
    "df_players = pd.read_hdf('spadl.h5', key='players')\n",
    "df_teams = pd.read_hdf('spadl.h5', key='teams')"
   ]
  },
  {
   "cell_type": "code",
   "execution_count": 119,
   "metadata": {},
   "outputs": [
    {
     "data": {
      "application/vnd.jupyter.widget-view+json": {
       "model_id": "a5372339feb348df90a8ba5aa9dbab3c",
       "version_major": 2,
       "version_minor": 0
      },
      "text/plain": [
       "HBox(children=(FloatProgress(value=0.0, max=51.0), HTML(value='')))"
      ]
     },
     "metadata": {},
     "output_type": "display_data"
    },
    {
     "name": "stdout",
     "output_type": "stream",
     "text": [
      "\n"
     ]
    }
   ],
   "source": [
    "dfs_values = []\n",
    "for _, game in tqdm(df_games.iterrows(), total=len(df_games)):\n",
    "    game_id = game['game_id']\n",
    "    df_actions = pd.read_hdf('spadl.h5', key=f'actions/game_{game_id}')\n",
    "    df_actions = (df_actions\n",
    "        .merge(df_actiontypes, how='left')\n",
    "        .merge(df_results, how='left')\n",
    "        .merge(df_bodyparts, how='left')\n",
    "        .merge(df_players, how='left')\n",
    "        .merge(df_teams, how='left')\n",
    "        .reset_index(drop=True)\n",
    "    )\n",
    "    \n",
    "    df_predictions = pd.read_hdf('predictions.h5', key=f'game_{game_id}')\n",
    "    df_values = value(df_actions, df_predictions['scores'], df_predictions['concedes'])\n",
    "    \n",
    "    df_all = pd.concat([df_actions, df_predictions, df_values], axis=1)\n",
    "    dfs_values.append(df_all)"
   ]
  },
  {
   "cell_type": "code",
   "execution_count": 120,
   "metadata": {},
   "outputs": [],
   "source": [
    "df_values = (pd.concat(dfs_values)\n",
    "    .sort_values(['game_id', 'period_id', 'time_seconds'])\n",
    "    .reset_index(drop=True)\n",
    ")"
   ]
  },
  {
   "cell_type": "code",
   "execution_count": 121,
   "metadata": {},
   "outputs": [
    {
     "data": {
      "text/html": [
       "<div>\n",
       "<style scoped>\n",
       "    .dataframe tbody tr th:only-of-type {\n",
       "        vertical-align: middle;\n",
       "    }\n",
       "\n",
       "    .dataframe tbody tr th {\n",
       "        vertical-align: top;\n",
       "    }\n",
       "\n",
       "    .dataframe thead th {\n",
       "        text-align: right;\n",
       "    }\n",
       "</style>\n",
       "<table border=\"1\" class=\"dataframe\">\n",
       "  <thead>\n",
       "    <tr style=\"text-align: right;\">\n",
       "      <th></th>\n",
       "      <th>short_name</th>\n",
       "      <th>scores</th>\n",
       "      <th>concedes</th>\n",
       "      <th>offensive_value</th>\n",
       "      <th>defensive_value</th>\n",
       "      <th>vaep_value</th>\n",
       "    </tr>\n",
       "  </thead>\n",
       "  <tbody>\n",
       "    <tr>\n",
       "      <th>0</th>\n",
       "      <td>O. Giroud</td>\n",
       "      <td>0.001900</td>\n",
       "      <td>0.000259</td>\n",
       "      <td>0.000000</td>\n",
       "      <td>-0.000000</td>\n",
       "      <td>0.000000</td>\n",
       "    </tr>\n",
       "    <tr>\n",
       "      <th>1</th>\n",
       "      <td>A. Griezmann</td>\n",
       "      <td>0.000496</td>\n",
       "      <td>0.000076</td>\n",
       "      <td>-0.001404</td>\n",
       "      <td>0.000184</td>\n",
       "      <td>-0.001221</td>\n",
       "    </tr>\n",
       "    <tr>\n",
       "      <th>2</th>\n",
       "      <td>N. Kanté</td>\n",
       "      <td>0.000753</td>\n",
       "      <td>0.000281</td>\n",
       "      <td>0.000257</td>\n",
       "      <td>-0.000206</td>\n",
       "      <td>0.000051</td>\n",
       "    </tr>\n",
       "    <tr>\n",
       "      <th>3</th>\n",
       "      <td>L. Koscielny</td>\n",
       "      <td>0.000040</td>\n",
       "      <td>0.000867</td>\n",
       "      <td>-0.000713</td>\n",
       "      <td>-0.000586</td>\n",
       "      <td>-0.001299</td>\n",
       "    </tr>\n",
       "    <tr>\n",
       "      <th>4</th>\n",
       "      <td>P. Evra</td>\n",
       "      <td>0.000747</td>\n",
       "      <td>0.000741</td>\n",
       "      <td>0.000747</td>\n",
       "      <td>-0.000741</td>\n",
       "      <td>0.000006</td>\n",
       "    </tr>\n",
       "    <tr>\n",
       "      <th>5</th>\n",
       "      <td>C. Săpunaru</td>\n",
       "      <td>0.000146</td>\n",
       "      <td>0.001256</td>\n",
       "      <td>-0.000595</td>\n",
       "      <td>-0.000509</td>\n",
       "      <td>-0.001104</td>\n",
       "    </tr>\n",
       "    <tr>\n",
       "      <th>6</th>\n",
       "      <td>C. Săpunaru</td>\n",
       "      <td>0.000130</td>\n",
       "      <td>0.001524</td>\n",
       "      <td>-0.000016</td>\n",
       "      <td>-0.000268</td>\n",
       "      <td>-0.000284</td>\n",
       "    </tr>\n",
       "    <tr>\n",
       "      <th>7</th>\n",
       "      <td>B. Matuidi</td>\n",
       "      <td>0.000097</td>\n",
       "      <td>0.000077</td>\n",
       "      <td>-0.001427</td>\n",
       "      <td>0.000053</td>\n",
       "      <td>-0.001374</td>\n",
       "    </tr>\n",
       "    <tr>\n",
       "      <th>8</th>\n",
       "      <td>C. Tătărușanu</td>\n",
       "      <td>0.001011</td>\n",
       "      <td>0.001304</td>\n",
       "      <td>0.000934</td>\n",
       "      <td>-0.001208</td>\n",
       "      <td>-0.000273</td>\n",
       "    </tr>\n",
       "    <tr>\n",
       "      <th>9</th>\n",
       "      <td>C. Tătărușanu</td>\n",
       "      <td>0.003359</td>\n",
       "      <td>0.000140</td>\n",
       "      <td>0.002348</td>\n",
       "      <td>0.001164</td>\n",
       "      <td>0.003512</td>\n",
       "    </tr>\n",
       "  </tbody>\n",
       "</table>\n",
       "</div>"
      ],
      "text/plain": [
       "      short_name    scores  concedes  offensive_value  defensive_value  \\\n",
       "0      O. Giroud  0.001900  0.000259         0.000000        -0.000000   \n",
       "1   A. Griezmann  0.000496  0.000076        -0.001404         0.000184   \n",
       "2       N. Kanté  0.000753  0.000281         0.000257        -0.000206   \n",
       "3   L. Koscielny  0.000040  0.000867        -0.000713        -0.000586   \n",
       "4        P. Evra  0.000747  0.000741         0.000747        -0.000741   \n",
       "5    C. Săpunaru  0.000146  0.001256        -0.000595        -0.000509   \n",
       "6    C. Săpunaru  0.000130  0.001524        -0.000016        -0.000268   \n",
       "7     B. Matuidi  0.000097  0.000077        -0.001427         0.000053   \n",
       "8  C. Tătărușanu  0.001011  0.001304         0.000934        -0.001208   \n",
       "9  C. Tătărușanu  0.003359  0.000140         0.002348         0.001164   \n",
       "\n",
       "   vaep_value  \n",
       "0    0.000000  \n",
       "1   -0.001221  \n",
       "2    0.000051  \n",
       "3   -0.001299  \n",
       "4    0.000006  \n",
       "5   -0.001104  \n",
       "6   -0.000284  \n",
       "7   -0.001374  \n",
       "8   -0.000273  \n",
       "9    0.003512  "
      ]
     },
     "execution_count": 121,
     "metadata": {},
     "output_type": "execute_result"
    }
   ],
   "source": [
    "df_values[\n",
    "    ['short_name', 'scores', 'concedes', 'offensive_value', 'defensive_value', 'vaep_value']\n",
    "].head(10)"
   ]
  },
  {
   "cell_type": "markdown",
   "metadata": {},
   "source": [
    "# Rate players"
   ]
  },
  {
   "cell_type": "markdown",
   "metadata": {},
   "source": [
    "**Note:** The code in this section is based on the [5-top-players.ipynb](https://github.com/ML-KULeuven/socceraction/blob/master/public-notebooks/5-top-players.ipynb) notebook in the `socceraction` repository."
   ]
  },
  {
   "cell_type": "markdown",
   "metadata": {},
   "source": [
    "## Rate according to total VAEP value"
   ]
  },
  {
   "cell_type": "code",
   "execution_count": 122,
   "metadata": {},
   "outputs": [],
   "source": [
    "df_ranking = (df_values[['player_id', 'team_name', 'short_name', 'vaep_value']]\n",
    "    .groupby(['player_id', 'team_name', 'short_name'])\n",
    "    .agg(vaep_count=('vaep_value', 'count'), vaep_sum=('vaep_value', 'sum'))\n",
    "    .sort_values('vaep_sum', ascending=False)\n",
    "    .reset_index()\n",
    ")"
   ]
  },
  {
   "cell_type": "code",
   "execution_count": 123,
   "metadata": {},
   "outputs": [
    {
     "data": {
      "text/html": [
       "<div>\n",
       "<style scoped>\n",
       "    .dataframe tbody tr th:only-of-type {\n",
       "        vertical-align: middle;\n",
       "    }\n",
       "\n",
       "    .dataframe tbody tr th {\n",
       "        vertical-align: top;\n",
       "    }\n",
       "\n",
       "    .dataframe thead th {\n",
       "        text-align: right;\n",
       "    }\n",
       "</style>\n",
       "<table border=\"1\" class=\"dataframe\">\n",
       "  <thead>\n",
       "    <tr style=\"text-align: right;\">\n",
       "      <th></th>\n",
       "      <th>player_id</th>\n",
       "      <th>team_name</th>\n",
       "      <th>short_name</th>\n",
       "      <th>vaep_count</th>\n",
       "      <th>vaep_sum</th>\n",
       "    </tr>\n",
       "  </thead>\n",
       "  <tbody>\n",
       "    <tr>\n",
       "      <th>0</th>\n",
       "      <td>77521.0</td>\n",
       "      <td>Iceland</td>\n",
       "      <td>A. Gunnarsson</td>\n",
       "      <td>270</td>\n",
       "      <td>3.785408</td>\n",
       "    </tr>\n",
       "    <tr>\n",
       "      <th>1</th>\n",
       "      <td>8278.0</td>\n",
       "      <td>Wales</td>\n",
       "      <td>G. Bale</td>\n",
       "      <td>347</td>\n",
       "      <td>3.462409</td>\n",
       "    </tr>\n",
       "    <tr>\n",
       "      <th>2</th>\n",
       "      <td>7870.0</td>\n",
       "      <td>Wales</td>\n",
       "      <td>A. Ramsey</td>\n",
       "      <td>347</td>\n",
       "      <td>3.168070</td>\n",
       "    </tr>\n",
       "    <tr>\n",
       "      <th>3</th>\n",
       "      <td>70134.0</td>\n",
       "      <td>Portugal</td>\n",
       "      <td>Rui Patrício</td>\n",
       "      <td>252</td>\n",
       "      <td>2.784342</td>\n",
       "    </tr>\n",
       "    <tr>\n",
       "      <th>4</th>\n",
       "      <td>76201.0</td>\n",
       "      <td>Hungary</td>\n",
       "      <td>Á. Lang</td>\n",
       "      <td>243</td>\n",
       "      <td>2.605360</td>\n",
       "    </tr>\n",
       "    <tr>\n",
       "      <th>5</th>\n",
       "      <td>25714.0</td>\n",
       "      <td>France</td>\n",
       "      <td>D. Payet</td>\n",
       "      <td>438</td>\n",
       "      <td>2.602474</td>\n",
       "    </tr>\n",
       "    <tr>\n",
       "      <th>6</th>\n",
       "      <td>14723.0</td>\n",
       "      <td>Germany</td>\n",
       "      <td>T. Kroos</td>\n",
       "      <td>751</td>\n",
       "      <td>2.505215</td>\n",
       "    </tr>\n",
       "    <tr>\n",
       "      <th>7</th>\n",
       "      <td>49855.0</td>\n",
       "      <td>Switzerland</td>\n",
       "      <td>Y. Sommer</td>\n",
       "      <td>143</td>\n",
       "      <td>2.337965</td>\n",
       "    </tr>\n",
       "    <tr>\n",
       "      <th>8</th>\n",
       "      <td>3682.0</td>\n",
       "      <td>France</td>\n",
       "      <td>A. Griezmann</td>\n",
       "      <td>347</td>\n",
       "      <td>2.281069</td>\n",
       "    </tr>\n",
       "    <tr>\n",
       "      <th>9</th>\n",
       "      <td>70965.0</td>\n",
       "      <td>Portugal</td>\n",
       "      <td>João Mário</td>\n",
       "      <td>403</td>\n",
       "      <td>2.250934</td>\n",
       "    </tr>\n",
       "  </tbody>\n",
       "</table>\n",
       "</div>"
      ],
      "text/plain": [
       "   player_id    team_name     short_name  vaep_count  vaep_sum\n",
       "0    77521.0      Iceland  A. Gunnarsson         270  3.785408\n",
       "1     8278.0        Wales        G. Bale         347  3.462409\n",
       "2     7870.0        Wales      A. Ramsey         347  3.168070\n",
       "3    70134.0     Portugal   Rui Patrício         252  2.784342\n",
       "4    76201.0      Hungary        Á. Lang         243  2.605360\n",
       "5    25714.0       France       D. Payet         438  2.602474\n",
       "6    14723.0      Germany       T. Kroos         751  2.505215\n",
       "7    49855.0  Switzerland      Y. Sommer         143  2.337965\n",
       "8     3682.0       France   A. Griezmann         347  2.281069\n",
       "9    70965.0     Portugal     João Mário         403  2.250934"
      ]
     },
     "execution_count": 123,
     "metadata": {},
     "output_type": "execute_result"
    }
   ],
   "source": [
    "df_ranking.head(10)"
   ]
  },
  {
   "cell_type": "markdown",
   "metadata": {},
   "source": [
    "## Rate according to total VAEP value per 90 minutes"
   ]
  },
  {
   "cell_type": "code",
   "execution_count": 124,
   "metadata": {},
   "outputs": [],
   "source": [
    "df_player_games = pd.read_hdf('spadl.h5', 'player_games')\n",
    "df_player_games = df_player_games[df_player_games['game_id'].isin(df_games['game_id'])]"
   ]
  },
  {
   "cell_type": "code",
   "execution_count": 125,
   "metadata": {},
   "outputs": [],
   "source": [
    "df_minutes_played = (df_player_games[['player_id', 'minutes_played']]\n",
    "    .groupby('player_id')\n",
    "    .sum()\n",
    "    .reset_index()\n",
    ")"
   ]
  },
  {
   "cell_type": "code",
   "execution_count": 126,
   "metadata": {},
   "outputs": [
    {
     "data": {
      "text/html": [
       "<div>\n",
       "<style scoped>\n",
       "    .dataframe tbody tr th:only-of-type {\n",
       "        vertical-align: middle;\n",
       "    }\n",
       "\n",
       "    .dataframe tbody tr th {\n",
       "        vertical-align: top;\n",
       "    }\n",
       "\n",
       "    .dataframe thead th {\n",
       "        text-align: right;\n",
       "    }\n",
       "</style>\n",
       "<table border=\"1\" class=\"dataframe\">\n",
       "  <thead>\n",
       "    <tr style=\"text-align: right;\">\n",
       "      <th></th>\n",
       "      <th>player_id</th>\n",
       "      <th>minutes_played</th>\n",
       "    </tr>\n",
       "  </thead>\n",
       "  <tbody>\n",
       "    <tr>\n",
       "      <th>0</th>\n",
       "      <td>36</td>\n",
       "      <td>463.289773</td>\n",
       "    </tr>\n",
       "    <tr>\n",
       "      <th>1</th>\n",
       "      <td>48</td>\n",
       "      <td>370.397027</td>\n",
       "    </tr>\n",
       "    <tr>\n",
       "      <th>2</th>\n",
       "      <td>66</td>\n",
       "      <td>405.000000</td>\n",
       "    </tr>\n",
       "    <tr>\n",
       "      <th>3</th>\n",
       "      <td>93</td>\n",
       "      <td>455.940612</td>\n",
       "    </tr>\n",
       "    <tr>\n",
       "      <th>4</th>\n",
       "      <td>97</td>\n",
       "      <td>280.211195</td>\n",
       "    </tr>\n",
       "    <tr>\n",
       "      <th>5</th>\n",
       "      <td>122</td>\n",
       "      <td>169.188484</td>\n",
       "    </tr>\n",
       "    <tr>\n",
       "      <th>6</th>\n",
       "      <td>151</td>\n",
       "      <td>149.133144</td>\n",
       "    </tr>\n",
       "    <tr>\n",
       "      <th>7</th>\n",
       "      <td>354</td>\n",
       "      <td>111.073973</td>\n",
       "    </tr>\n",
       "    <tr>\n",
       "      <th>8</th>\n",
       "      <td>3269</td>\n",
       "      <td>362.523550</td>\n",
       "    </tr>\n",
       "    <tr>\n",
       "      <th>9</th>\n",
       "      <td>3276</td>\n",
       "      <td>374.521601</td>\n",
       "    </tr>\n",
       "  </tbody>\n",
       "</table>\n",
       "</div>"
      ],
      "text/plain": [
       "   player_id  minutes_played\n",
       "0         36      463.289773\n",
       "1         48      370.397027\n",
       "2         66      405.000000\n",
       "3         93      455.940612\n",
       "4         97      280.211195\n",
       "5        122      169.188484\n",
       "6        151      149.133144\n",
       "7        354      111.073973\n",
       "8       3269      362.523550\n",
       "9       3276      374.521601"
      ]
     },
     "execution_count": 126,
     "metadata": {},
     "output_type": "execute_result"
    }
   ],
   "source": [
    "df_minutes_played.head(10)"
   ]
  },
  {
   "cell_type": "code",
   "execution_count": 127,
   "metadata": {},
   "outputs": [],
   "source": [
    "df_ranking_p90 = df_ranking.merge(df_minutes_played)\n",
    "df_ranking_p90 = df_ranking_p90[df_ranking_p90['minutes_played'] > 360]\n",
    "df_ranking_p90['vaep_rating'] = df_ranking_p90['vaep_sum'] * 90 / df_ranking_p90['minutes_played']\n",
    "df_ranking_p90 = df_ranking_p90.sort_values('vaep_rating', ascending=False)"
   ]
  },
  {
   "cell_type": "code",
   "execution_count": 128,
   "metadata": {},
   "outputs": [
    {
     "data": {
      "text/html": [
       "<div>\n",
       "<style scoped>\n",
       "    .dataframe tbody tr th:only-of-type {\n",
       "        vertical-align: middle;\n",
       "    }\n",
       "\n",
       "    .dataframe tbody tr th {\n",
       "        vertical-align: top;\n",
       "    }\n",
       "\n",
       "    .dataframe thead th {\n",
       "        text-align: right;\n",
       "    }\n",
       "</style>\n",
       "<table border=\"1\" class=\"dataframe\">\n",
       "  <thead>\n",
       "    <tr style=\"text-align: right;\">\n",
       "      <th></th>\n",
       "      <th>player_id</th>\n",
       "      <th>team_name</th>\n",
       "      <th>short_name</th>\n",
       "      <th>vaep_count</th>\n",
       "      <th>vaep_sum</th>\n",
       "      <th>minutes_played</th>\n",
       "      <th>vaep_rating</th>\n",
       "    </tr>\n",
       "  </thead>\n",
       "  <tbody>\n",
       "    <tr>\n",
       "      <th>0</th>\n",
       "      <td>77521.0</td>\n",
       "      <td>Iceland</td>\n",
       "      <td>A. Gunnarsson</td>\n",
       "      <td>270</td>\n",
       "      <td>3.785408</td>\n",
       "      <td>439.585454</td>\n",
       "      <td>0.775018</td>\n",
       "    </tr>\n",
       "    <tr>\n",
       "      <th>4</th>\n",
       "      <td>76201.0</td>\n",
       "      <td>Hungary</td>\n",
       "      <td>Á. Lang</td>\n",
       "      <td>243</td>\n",
       "      <td>2.605360</td>\n",
       "      <td>374.853293</td>\n",
       "      <td>0.625531</td>\n",
       "    </tr>\n",
       "    <tr>\n",
       "      <th>2</th>\n",
       "      <td>7870.0</td>\n",
       "      <td>Wales</td>\n",
       "      <td>A. Ramsey</td>\n",
       "      <td>347</td>\n",
       "      <td>3.168070</td>\n",
       "      <td>457.505431</td>\n",
       "      <td>0.623220</td>\n",
       "    </tr>\n",
       "    <tr>\n",
       "      <th>1</th>\n",
       "      <td>8278.0</td>\n",
       "      <td>Wales</td>\n",
       "      <td>G. Bale</td>\n",
       "      <td>347</td>\n",
       "      <td>3.462409</td>\n",
       "      <td>551.009829</td>\n",
       "      <td>0.565538</td>\n",
       "    </tr>\n",
       "    <tr>\n",
       "      <th>7</th>\n",
       "      <td>49855.0</td>\n",
       "      <td>Switzerland</td>\n",
       "      <td>Y. Sommer</td>\n",
       "      <td>143</td>\n",
       "      <td>2.337965</td>\n",
       "      <td>372.445552</td>\n",
       "      <td>0.564960</td>\n",
       "    </tr>\n",
       "    <tr>\n",
       "      <th>5</th>\n",
       "      <td>25714.0</td>\n",
       "      <td>France</td>\n",
       "      <td>D. Payet</td>\n",
       "      <td>438</td>\n",
       "      <td>2.602474</td>\n",
       "      <td>516.544493</td>\n",
       "      <td>0.453441</td>\n",
       "    </tr>\n",
       "    <tr>\n",
       "      <th>10</th>\n",
       "      <td>14771.0</td>\n",
       "      <td>Croatia</td>\n",
       "      <td>V. Ćorluka</td>\n",
       "      <td>273</td>\n",
       "      <td>1.946038</td>\n",
       "      <td>409.631802</td>\n",
       "      <td>0.427563</td>\n",
       "    </tr>\n",
       "    <tr>\n",
       "      <th>6</th>\n",
       "      <td>14723.0</td>\n",
       "      <td>Germany</td>\n",
       "      <td>T. Kroos</td>\n",
       "      <td>751</td>\n",
       "      <td>2.505215</td>\n",
       "      <td>559.043131</td>\n",
       "      <td>0.403313</td>\n",
       "    </tr>\n",
       "    <tr>\n",
       "      <th>3</th>\n",
       "      <td>70134.0</td>\n",
       "      <td>Portugal</td>\n",
       "      <td>Rui Patrício</td>\n",
       "      <td>252</td>\n",
       "      <td>2.784342</td>\n",
       "      <td>653.390335</td>\n",
       "      <td>0.383524</td>\n",
       "    </tr>\n",
       "    <tr>\n",
       "      <th>8</th>\n",
       "      <td>3682.0</td>\n",
       "      <td>France</td>\n",
       "      <td>A. Griezmann</td>\n",
       "      <td>347</td>\n",
       "      <td>2.281069</td>\n",
       "      <td>538.531925</td>\n",
       "      <td>0.381214</td>\n",
       "    </tr>\n",
       "  </tbody>\n",
       "</table>\n",
       "</div>"
      ],
      "text/plain": [
       "    player_id    team_name     short_name  vaep_count  vaep_sum  \\\n",
       "0     77521.0      Iceland  A. Gunnarsson         270  3.785408   \n",
       "4     76201.0      Hungary        Á. Lang         243  2.605360   \n",
       "2      7870.0        Wales      A. Ramsey         347  3.168070   \n",
       "1      8278.0        Wales        G. Bale         347  3.462409   \n",
       "7     49855.0  Switzerland      Y. Sommer         143  2.337965   \n",
       "5     25714.0       France       D. Payet         438  2.602474   \n",
       "10    14771.0      Croatia     V. Ćorluka         273  1.946038   \n",
       "6     14723.0      Germany       T. Kroos         751  2.505215   \n",
       "3     70134.0     Portugal   Rui Patrício         252  2.784342   \n",
       "8      3682.0       France   A. Griezmann         347  2.281069   \n",
       "\n",
       "    minutes_played  vaep_rating  \n",
       "0       439.585454     0.775018  \n",
       "4       374.853293     0.625531  \n",
       "2       457.505431     0.623220  \n",
       "1       551.009829     0.565538  \n",
       "7       372.445552     0.564960  \n",
       "5       516.544493     0.453441  \n",
       "10      409.631802     0.427563  \n",
       "6       559.043131     0.403313  \n",
       "3       653.390335     0.383524  \n",
       "8       538.531925     0.381214  "
      ]
     },
     "execution_count": 128,
     "metadata": {},
     "output_type": "execute_result"
    }
   ],
   "source": [
    "df_ranking_p90.head(10)"
   ]
  },
  {
   "cell_type": "code",
   "execution_count": 129,
   "metadata": {},
   "outputs": [],
   "source": [
    "df_ranking_p90.to_csv('rankingEuroPCA.csv', index=False)"
   ]
  },
  {
   "cell_type": "code",
   "execution_count": null,
   "metadata": {},
   "outputs": [],
   "source": []
  }
 ],
 "metadata": {
  "kernelspec": {
   "display_name": "Python 3",
   "language": "python",
   "name": "python3"
  },
  "language_info": {
   "codemirror_mode": {
    "name": "ipython",
    "version": 3
   },
   "file_extension": ".py",
   "mimetype": "text/x-python",
   "name": "python",
   "nbconvert_exporter": "python",
   "pygments_lexer": "ipython3",
   "version": "3.7.4"
  },
  "toc": {
   "base_numbering": 1,
   "nav_menu": {},
   "number_sections": true,
   "sideBar": true,
   "skip_h1_title": false,
   "title_cell": "Table of Contents",
   "title_sidebar": "Contents",
   "toc_cell": false,
   "toc_position": {
    "height": "calc(100% - 180px)",
    "left": "10px",
    "top": "150px",
    "width": "498.594px"
   },
   "toc_section_display": true,
   "toc_window_display": true
  }
 },
 "nbformat": 4,
 "nbformat_minor": 4
}
